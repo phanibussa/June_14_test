{
 "cells": [
  {
   "cell_type": "markdown",
   "id": "08529776",
   "metadata": {},
   "source": [
    "# Day - 19 python built in functions + Numpy"
   ]
  },
  {
   "cell_type": "code",
   "execution_count": null,
   "id": "be946b83",
   "metadata": {},
   "outputs": [],
   "source": [
    "def square(x):\n",
    "    return x*x\n"
   ]
  },
  {
   "cell_type": "code",
   "execution_count": null,
   "id": "7899085c",
   "metadata": {},
   "outputs": [
    {
     "data": {
      "text/plain": [
       "9"
      ]
     },
     "execution_count": 2,
     "metadata": {},
     "output_type": "execute_result"
    }
   ],
   "source": [
    "square(3)"
   ]
  },
  {
   "cell_type": "code",
   "execution_count": null,
   "id": "1407bb24",
   "metadata": {},
   "outputs": [],
   "source": [
    "square_lambda = lambda x: x*x"
   ]
  },
  {
   "cell_type": "code",
   "execution_count": null,
   "id": "1e345ba0",
   "metadata": {},
   "outputs": [
    {
     "data": {
      "text/plain": [
       "9"
      ]
     },
     "execution_count": 6,
     "metadata": {},
     "output_type": "execute_result"
    }
   ],
   "source": [
    "square_lambda(3)"
   ]
  },
  {
   "cell_type": "code",
   "execution_count": null,
   "id": "5460d314",
   "metadata": {},
   "outputs": [],
   "source": [
    "square_lambda = lambda x: print(x*x, \"hello\")"
   ]
  },
  {
   "cell_type": "code",
   "execution_count": null,
   "id": "c4954069",
   "metadata": {},
   "outputs": [
    {
     "name": "stdout",
     "output_type": "stream",
     "text": [
      "9 hello\n"
     ]
    }
   ],
   "source": [
    "square_lambda(3)"
   ]
  },
  {
   "cell_type": "code",
   "execution_count": null,
   "id": "620db782",
   "metadata": {},
   "outputs": [],
   "source": [
    "add_lambda = lambda x,y,z : x+y+z"
   ]
  },
  {
   "cell_type": "code",
   "execution_count": null,
   "id": "936dbfd4",
   "metadata": {},
   "outputs": [
    {
     "data": {
      "text/plain": [
       "6"
      ]
     },
     "execution_count": 12,
     "metadata": {},
     "output_type": "execute_result"
    }
   ],
   "source": [
    "add_lambda(1,2,3)"
   ]
  },
  {
   "cell_type": "markdown",
   "id": "429ba895",
   "metadata": {},
   "source": [
    "# Sort"
   ]
  },
  {
   "cell_type": "code",
   "execution_count": null,
   "id": "f6ce62ae",
   "metadata": {},
   "outputs": [],
   "source": [
    "a = [1,2,110,-3,5,6,90,78]"
   ]
  },
  {
   "cell_type": "markdown",
   "id": "e39b7f60",
   "metadata": {},
   "source": []
  },
  {
   "cell_type": "code",
   "execution_count": null,
   "id": "4d49f068",
   "metadata": {},
   "outputs": [
    {
     "data": {
      "text/plain": [
       "[-3, 1, 2, 5, 6, 78, 90, 110]"
      ]
     },
     "execution_count": 15,
     "metadata": {},
     "output_type": "execute_result"
    }
   ],
   "source": [
    "a.sort()\n",
    "a"
   ]
  },
  {
   "cell_type": "markdown",
   "id": "b9515a16",
   "metadata": {},
   "source": [
    "# Sorted"
   ]
  },
  {
   "cell_type": "code",
   "execution_count": null,
   "id": "a7c8187b",
   "metadata": {},
   "outputs": [],
   "source": [
    "a = [1,2,110,-3,5,6,90,78]"
   ]
  },
  {
   "cell_type": "code",
   "execution_count": null,
   "id": "44ea0477",
   "metadata": {},
   "outputs": [],
   "source": [
    "sorted_a = sorted(a)"
   ]
  },
  {
   "cell_type": "code",
   "execution_count": null,
   "id": "044d7528",
   "metadata": {},
   "outputs": [
    {
     "data": {
      "text/plain": [
       "[-3, 1, 2, 5, 6, 78, 90, 110]"
      ]
     },
     "execution_count": 18,
     "metadata": {},
     "output_type": "execute_result"
    }
   ],
   "source": [
    "sorted_a\n"
   ]
  },
  {
   "cell_type": "markdown",
   "id": "bfe70a43",
   "metadata": {},
   "source": [
    "# using key = in both sort and sorted"
   ]
  },
  {
   "cell_type": "code",
   "execution_count": null,
   "id": "08187a09",
   "metadata": {},
   "outputs": [],
   "source": [
    "words = [\"apple\",\"kiwi\",\"banana\"]\n",
    "#apple = 5\n",
    "#Kiwi = 4\n",
    "#Banana =6"
   ]
  },
  {
   "cell_type": "code",
   "execution_count": null,
   "id": "34ac2ce6",
   "metadata": {},
   "outputs": [],
   "source": [
    "words.sort(key=len)"
   ]
  },
  {
   "cell_type": "code",
   "execution_count": null,
   "id": "4fac8bbf",
   "metadata": {},
   "outputs": [
    {
     "data": {
      "text/plain": [
       "['kiwi', 'apple', 'banana']"
      ]
     },
     "execution_count": 22,
     "metadata": {},
     "output_type": "execute_result"
    }
   ],
   "source": [
    "words"
   ]
  },
  {
   "cell_type": "code",
   "execution_count": null,
   "id": "76209aa9",
   "metadata": {},
   "outputs": [],
   "source": [
    "words_sort = [\"apple\",\"kiwi\",\"banana\"]\n"
   ]
  },
  {
   "cell_type": "code",
   "execution_count": null,
   "id": "b6af9d6f",
   "metadata": {},
   "outputs": [
    {
     "name": "stdout",
     "output_type": "stream",
     "text": [
      "['kiwi', 'apple', 'banana']\n"
     ]
    }
   ],
   "source": [
    "print(sorted(words_sort,key=len))"
   ]
  },
  {
   "cell_type": "code",
   "execution_count": null,
   "id": "d1bf9d0b",
   "metadata": {},
   "outputs": [
    {
     "name": "stdout",
     "output_type": "stream",
     "text": [
      "['banana', 'apple', 'kiwi']\n"
     ]
    }
   ],
   "source": [
    "words_sort = [\"apple\",\"kiwi\",\"banana\"]\n",
    "print(sorted(words_sort,key=lambda x: x[-1]))"
   ]
  },
  {
   "cell_type": "code",
   "execution_count": null,
   "id": "b56dadab",
   "metadata": {},
   "outputs": [],
   "source": [
    "def get_last_char(x):\n",
    "    return x[-1]"
   ]
  },
  {
   "cell_type": "code",
   "execution_count": null,
   "id": "c1908c49",
   "metadata": {},
   "outputs": [
    {
     "name": "stdout",
     "output_type": "stream",
     "text": [
      "['banana', 'apple', 'kiwi']\n",
      "['kiwi', 'apple', 'banana']\n"
     ]
    }
   ],
   "source": [
    "words_sort = [\"apple\",\"kiwi\",\"banana\"]\n",
    "# apple = e\n",
    "# kiwi = i\n",
    "# banana = a \n",
    "# sort bt last letter\n",
    "print(sorted(words_sort,key=get_last_char))\n",
    "print(sorted(words_sort,key=get_last_char,reverse=True))\n"
   ]
  },
  {
   "cell_type": "code",
   "execution_count": null,
   "id": "9567ef27",
   "metadata": {},
   "outputs": [],
   "source": [
    "a_dict = {\n",
    "    1: \"hello\",\n",
    "    100: \"bye\",\n",
    "    2:\"How are you !\"\n",
    "}"
   ]
  },
  {
   "cell_type": "code",
   "execution_count": null,
   "id": "30004737",
   "metadata": {},
   "outputs": [
    {
     "name": "stdout",
     "output_type": "stream",
     "text": [
      "[100, 2, 1]\n"
     ]
    }
   ],
   "source": [
    "print(sorted(a_dict.keys(),reverse=True))"
   ]
  },
  {
   "cell_type": "markdown",
   "id": "226751a8",
   "metadata": {},
   "source": [
    "# map()"
   ]
  },
  {
   "cell_type": "markdown",
   "id": "6bb78b2b",
   "metadata": {},
   "source": [
    "# syntax map(any function, iterable)"
   ]
  },
  {
   "cell_type": "code",
   "execution_count": null,
   "id": "7440d04a",
   "metadata": {},
   "outputs": [],
   "source": [
    "square = lambda x: x*x"
   ]
  },
  {
   "cell_type": "code",
   "execution_count": null,
   "id": "87ecde1c",
   "metadata": {},
   "outputs": [
    {
     "data": {
      "text/plain": [
       "4"
      ]
     },
     "execution_count": 45,
     "metadata": {},
     "output_type": "execute_result"
    }
   ],
   "source": [
    "square(2)"
   ]
  },
  {
   "cell_type": "code",
   "execution_count": null,
   "id": "db6ea9b5",
   "metadata": {},
   "outputs": [],
   "source": [
    "num = list(range(0,11))"
   ]
  },
  {
   "cell_type": "code",
   "execution_count": null,
   "id": "c6c02ebd",
   "metadata": {},
   "outputs": [
    {
     "data": {
      "text/plain": [
       "[0, 1, 2, 3, 4, 5, 6, 7, 8, 9, 10]"
      ]
     },
     "execution_count": 47,
     "metadata": {},
     "output_type": "execute_result"
    }
   ],
   "source": [
    "num"
   ]
  },
  {
   "cell_type": "code",
   "execution_count": null,
   "id": "7025f256",
   "metadata": {},
   "outputs": [
    {
     "data": {
      "text/plain": [
       "<map at 0x2417ab49a80>"
      ]
     },
     "execution_count": 48,
     "metadata": {},
     "output_type": "execute_result"
    }
   ],
   "source": [
    "map(square,num)"
   ]
  },
  {
   "cell_type": "code",
   "execution_count": null,
   "id": "a8d33853",
   "metadata": {},
   "outputs": [],
   "source": [
    "result = list(map(square,num))"
   ]
  },
  {
   "cell_type": "code",
   "execution_count": null,
   "id": "9652403a",
   "metadata": {},
   "outputs": [
    {
     "data": {
      "text/plain": [
       "[0, 1, 4, 9, 16, 25, 36, 49, 64, 81, 100]"
      ]
     },
     "execution_count": 51,
     "metadata": {},
     "output_type": "execute_result"
    }
   ],
   "source": [
    "result"
   ]
  },
  {
   "cell_type": "code",
   "execution_count": null,
   "id": "868323c5",
   "metadata": {},
   "outputs": [],
   "source": [
    "result = list(map(lambda x: x*x,num))"
   ]
  },
  {
   "cell_type": "code",
   "execution_count": null,
   "id": "8eba552e",
   "metadata": {},
   "outputs": [
    {
     "data": {
      "text/plain": [
       "[0, 1, 4, 9, 16, 25, 36, 49, 64, 81, 100]"
      ]
     },
     "execution_count": 53,
     "metadata": {},
     "output_type": "execute_result"
    }
   ],
   "source": [
    "result"
   ]
  },
  {
   "cell_type": "code",
   "execution_count": null,
   "id": "0f2d14ab",
   "metadata": {},
   "outputs": [],
   "source": [
    "add_lambda = lambda x,y:x+y"
   ]
  },
  {
   "cell_type": "code",
   "execution_count": null,
   "id": "1a3a9040",
   "metadata": {},
   "outputs": [
    {
     "data": {
      "text/plain": [
       "3"
      ]
     },
     "execution_count": 57,
     "metadata": {},
     "output_type": "execute_result"
    }
   ],
   "source": [
    "add_lambda(1,2)"
   ]
  },
  {
   "cell_type": "code",
   "execution_count": null,
   "id": "94b5006b",
   "metadata": {},
   "outputs": [],
   "source": [
    "add_lambda = lambda item:item[0]+item[1]"
   ]
  },
  {
   "cell_type": "code",
   "execution_count": null,
   "id": "0402c7d8",
   "metadata": {},
   "outputs": [
    {
     "data": {
      "text/plain": [
       "3"
      ]
     },
     "execution_count": 63,
     "metadata": {},
     "output_type": "execute_result"
    }
   ],
   "source": [
    "add_lambda((1,2))"
   ]
  },
  {
   "cell_type": "code",
   "execution_count": null,
   "id": "7925ce40",
   "metadata": {},
   "outputs": [],
   "source": [
    "a_list = [(1,2),(3,4),(5,6)]"
   ]
  },
  {
   "cell_type": "code",
   "execution_count": null,
   "id": "8d84fa8f",
   "metadata": {},
   "outputs": [],
   "source": [
    "result = list(map(add_lambda,a_list))"
   ]
  },
  {
   "cell_type": "code",
   "execution_count": null,
   "id": "a53494c5",
   "metadata": {},
   "outputs": [
    {
     "data": {
      "text/plain": [
       "[3, 7, 11]"
      ]
     },
     "execution_count": 67,
     "metadata": {},
     "output_type": "execute_result"
    }
   ],
   "source": [
    "result"
   ]
  },
  {
   "cell_type": "markdown",
   "id": "8e00da72",
   "metadata": {},
   "source": [
    "# Zip"
   ]
  },
  {
   "cell_type": "code",
   "execution_count": null,
   "id": "0df8c418",
   "metadata": {},
   "outputs": [],
   "source": [
    "names = [\"norma\",\"gagan\",1]\n",
    "scores = [10,100]"
   ]
  },
  {
   "cell_type": "code",
   "execution_count": null,
   "id": "b3ef539a",
   "metadata": {},
   "outputs": [
    {
     "name": "stdout",
     "output_type": "stream",
     "text": [
      "[('norma', 10), ('gagan', 100)]\n"
     ]
    }
   ],
   "source": [
    "print(list(zip(names,scores)))"
   ]
  },
  {
   "cell_type": "code",
   "execution_count": null,
   "id": "f44e90fc",
   "metadata": {},
   "outputs": [
    {
     "name": "stdout",
     "output_type": "stream",
     "text": [
      "('norma', 10)\n",
      "('gagan', 100)\n"
     ]
    }
   ],
   "source": [
    "for i in zip(names,scores):\n",
    "    print(i)"
   ]
  },
  {
   "cell_type": "code",
   "execution_count": null,
   "id": "5f182209",
   "metadata": {},
   "outputs": [
    {
     "data": {
      "text/plain": [
       "{'norma': 10, 'gagan': 100}"
      ]
     },
     "execution_count": 75,
     "metadata": {},
     "output_type": "execute_result"
    }
   ],
   "source": [
    "dict(zip(names,scores))"
   ]
  },
  {
   "cell_type": "markdown",
   "id": "c508d30c",
   "metadata": {},
   "source": [
    "# Unpacking"
   ]
  },
  {
   "cell_type": "code",
   "execution_count": null,
   "id": "e6836cf3",
   "metadata": {},
   "outputs": [],
   "source": [
    "a = [1,2,3,4,5,6]"
   ]
  },
  {
   "cell_type": "code",
   "execution_count": null,
   "id": "269bacb9",
   "metadata": {},
   "outputs": [
    {
     "name": "stdout",
     "output_type": "stream",
     "text": [
      "[1, 2, 3, 4, 5, 6]\n"
     ]
    }
   ],
   "source": [
    "print(a)"
   ]
  },
  {
   "cell_type": "code",
   "execution_count": null,
   "id": "98800d1a",
   "metadata": {},
   "outputs": [
    {
     "name": "stdout",
     "output_type": "stream",
     "text": [
      "1 2 3 4 5 6\n"
     ]
    }
   ],
   "source": [
    "print(*a) # unpacking"
   ]
  },
  {
   "cell_type": "code",
   "execution_count": null,
   "id": "d70673e7",
   "metadata": {},
   "outputs": [],
   "source": [
    "def add(a,b,c):\n",
    "    print(a+b+c)"
   ]
  },
  {
   "cell_type": "code",
   "execution_count": null,
   "id": "e1daa2b5",
   "metadata": {},
   "outputs": [
    {
     "name": "stdout",
     "output_type": "stream",
     "text": [
      "6\n"
     ]
    }
   ],
   "source": [
    "add(1,2,3)"
   ]
  },
  {
   "cell_type": "code",
   "execution_count": null,
   "id": "d8338c36",
   "metadata": {},
   "outputs": [],
   "source": [
    "a = [1,2,3]"
   ]
  },
  {
   "cell_type": "code",
   "execution_count": null,
   "id": "a112ee11",
   "metadata": {},
   "outputs": [
    {
     "ename": "TypeError",
     "evalue": "add() missing 2 required positional arguments: 'b' and 'c'",
     "output_type": "error",
     "traceback": [
      "\u001b[31m---------------------------------------------------------------------------\u001b[39m",
      "\u001b[31mTypeError\u001b[39m                                 Traceback (most recent call last)",
      "\u001b[36mCell\u001b[39m\u001b[36m \u001b[39m\u001b[32mIn[87]\u001b[39m\u001b[32m, line 1\u001b[39m\n\u001b[32m----> \u001b[39m\u001b[32m1\u001b[39m \u001b[43madd\u001b[49m\u001b[43m(\u001b[49m\u001b[43ma\u001b[49m\u001b[43m)\u001b[49m\n",
      "\u001b[31mTypeError\u001b[39m: add() missing 2 required positional arguments: 'b' and 'c'"
     ]
    }
   ],
   "source": [
    "add(a)"
   ]
  },
  {
   "cell_type": "code",
   "execution_count": null,
   "id": "4bcfa606",
   "metadata": {},
   "outputs": [
    {
     "name": "stdout",
     "output_type": "stream",
     "text": [
      "6\n"
     ]
    }
   ],
   "source": [
    "add(*a)"
   ]
  },
  {
   "cell_type": "code",
   "execution_count": null,
   "id": "52c411bf",
   "metadata": {},
   "outputs": [],
   "source": [
    "num = [(1,\"mondal\"),(2,\"hello\")]"
   ]
  },
  {
   "cell_type": "code",
   "execution_count": null,
   "id": "c414a99c",
   "metadata": {},
   "outputs": [
    {
     "name": "stdout",
     "output_type": "stream",
     "text": [
      "(1, 'mondal') (2, 'hello')\n"
     ]
    }
   ],
   "source": [
    "print(*num)"
   ]
  },
  {
   "cell_type": "code",
   "execution_count": null,
   "id": "818b619d",
   "metadata": {},
   "outputs": [],
   "source": [
    "name,scores = zip(*num)"
   ]
  },
  {
   "cell_type": "code",
   "execution_count": null,
   "id": "9598e04e",
   "metadata": {},
   "outputs": [
    {
     "name": "stdout",
     "output_type": "stream",
     "text": [
      "(1, 2)\n",
      "('mondal', 'hello')\n"
     ]
    }
   ],
   "source": [
    "print(name)\n",
    "print(scores)"
   ]
  },
  {
   "cell_type": "markdown",
   "id": "71a3b632",
   "metadata": {},
   "source": [
    "# list comprhension"
   ]
  },
  {
   "cell_type": "code",
   "execution_count": null,
   "id": "f32acdb7",
   "metadata": {},
   "outputs": [],
   "source": [
    "num = [1,1,1,1,1,2,3,4,1,11,34,1]"
   ]
  },
  {
   "cell_type": "markdown",
   "id": "e3958a94",
   "metadata": {},
   "source": [
    "# syntax of list comphrension\n",
    "# expresion for item in ietrable if conditio"
   ]
  },
  {
   "cell_type": "code",
   "execution_count": null,
   "id": "63d6481f",
   "metadata": {},
   "outputs": [
    {
     "name": "stdout",
     "output_type": "stream",
     "text": [
      "[1, 1, 1, 1, 1, 1, 1]\n"
     ]
    }
   ],
   "source": [
    "new_res = []\n",
    "for i in num:\n",
    "    if i == 1:\n",
    "        new_res.append(i)\n",
    "print(new_res)        "
   ]
  },
  {
   "cell_type": "code",
   "execution_count": null,
   "id": "03c33d80",
   "metadata": {},
   "outputs": [],
   "source": [
    "new_res = [i for i in num if i == 1]"
   ]
  },
  {
   "cell_type": "code",
   "execution_count": null,
   "id": "ebcf9b82",
   "metadata": {},
   "outputs": [
    {
     "name": "stdout",
     "output_type": "stream",
     "text": [
      "[1, 1, 1, 1, 1, 1, 1]\n"
     ]
    }
   ],
   "source": [
    "print(new_res)"
   ]
  },
  {
   "cell_type": "markdown",
   "id": "664ca278",
   "metadata": {},
   "source": [
    "#ps sqaure of numbers"
   ]
  },
  {
   "cell_type": "code",
   "execution_count": null,
   "id": "b67bfe0a",
   "metadata": {},
   "outputs": [
    {
     "name": "stdout",
     "output_type": "stream",
     "text": [
      "[1, 1, 1, 1, 1, 4, 9, 16, 1, 121, 1156, 1]\n"
     ]
    }
   ],
   "source": [
    "new_res = []\n",
    "for i in num:\n",
    "    new_res.append(i*i)\n",
    "print(new_res)    "
   ]
  },
  {
   "cell_type": "code",
   "execution_count": null,
   "id": "5a348723",
   "metadata": {},
   "outputs": [],
   "source": [
    "new_res = [i*i for i in num]"
   ]
  },
  {
   "cell_type": "code",
   "execution_count": null,
   "id": "07328b29",
   "metadata": {},
   "outputs": [
    {
     "name": "stdout",
     "output_type": "stream",
     "text": [
      "[1, 1, 1, 1, 1, 4, 9, 16, 1, 121, 1156, 1]\n"
     ]
    }
   ],
   "source": [
    "print(new_res)"
   ]
  },
  {
   "cell_type": "markdown",
   "id": "b0d9115e",
   "metadata": {},
   "source": [
    "# if numb i sven and double it"
   ]
  },
  {
   "cell_type": "code",
   "execution_count": null,
   "id": "d2ad2aa1",
   "metadata": {},
   "outputs": [],
   "source": [
    "a_lst = [1,2,3,4,5,6,7,8,9]"
   ]
  },
  {
   "cell_type": "code",
   "execution_count": null,
   "id": "00f518e9",
   "metadata": {},
   "outputs": [],
   "source": [
    "new_res_even = [i*i for i in a_lst if i%2==0]"
   ]
  },
  {
   "cell_type": "code",
   "execution_count": null,
   "id": "06031d96",
   "metadata": {},
   "outputs": [
    {
     "name": "stdout",
     "output_type": "stream",
     "text": [
      "[4, 16, 36, 64]\n"
     ]
    }
   ],
   "source": [
    "print(new_res_even)"
   ]
  },
  {
   "cell_type": "code",
   "execution_count": null,
   "id": "efc61483",
   "metadata": {},
   "outputs": [],
   "source": [
    "new_res_odd = [i*i for i in a_lst if i%2==1]"
   ]
  },
  {
   "cell_type": "code",
   "execution_count": null,
   "id": "5f404737",
   "metadata": {},
   "outputs": [
    {
     "name": "stdout",
     "output_type": "stream",
     "text": [
      "[1, 9, 25, 49, 81]\n"
     ]
    }
   ],
   "source": [
    "print(new_res_odd)"
   ]
  },
  {
   "cell_type": "code",
   "execution_count": null,
   "id": "24027b5a",
   "metadata": {},
   "outputs": [],
   "source": [
    "new_res_lam_even = [lambda i=i: i*i for i in a_lst if i%2==0]"
   ]
  },
  {
   "cell_type": "code",
   "execution_count": null,
   "id": "e1116640",
   "metadata": {},
   "outputs": [
    {
     "name": "stdout",
     "output_type": "stream",
     "text": [
      "[<function <lambda> at 0x000002417B1B62A0>, <function <lambda> at 0x000002417B1B7880>, <function <lambda> at 0x000002417B1B4680>, <function <lambda> at 0x000002417B1B7CE0>]\n"
     ]
    }
   ],
   "source": [
    "print(new_res_lam_even)"
   ]
  },
  {
   "cell_type": "code",
   "execution_count": null,
   "id": "9691d07e",
   "metadata": {},
   "outputs": [
    {
     "name": "stdout",
     "output_type": "stream",
     "text": [
      "4\n",
      "16\n",
      "36\n",
      "64\n"
     ]
    }
   ],
   "source": [
    "for f in new_res_lam_even:\n",
    "    print(f())"
   ]
  },
  {
   "cell_type": "markdown",
   "id": "39d1d965",
   "metadata": {},
   "source": [
    "# Dictionary comprehensive\n",
    "# key Expression , value Expression\n"
   ]
  },
  {
   "cell_type": "code",
   "execution_count": null,
   "id": "96486e08",
   "metadata": {},
   "outputs": [],
   "source": [
    "names = [\"norma\",\"gagan\",1]\n",
    "scores = [10,100]"
   ]
  },
  {
   "cell_type": "code",
   "execution_count": null,
   "id": "4ec467c4",
   "metadata": {},
   "outputs": [
    {
     "ename": "SyntaxError",
     "evalue": "did you forget parentheses around the comprehension target? (532113355.py, line 1)",
     "output_type": "error",
     "traceback": [
      "  \u001b[36mCell\u001b[39m\u001b[36m \u001b[39m\u001b[32mIn[142]\u001b[39m\u001b[32m, line 1\u001b[39m\n\u001b[31m    \u001b[39m\u001b[31mresult = {names, scores for name,score in zip(names,scores)}\u001b[39m\n              ^\n\u001b[31mSyntaxError\u001b[39m\u001b[31m:\u001b[39m did you forget parentheses around the comprehension target?\n"
     ]
    }
   ],
   "source": [
    "result = {names, scores for name,score in zip(names,scores)}"
   ]
  },
  {
   "cell_type": "markdown",
   "id": "f2a6747f",
   "metadata": {},
   "source": [
    "# Numpy"
   ]
  },
  {
   "cell_type": "code",
   "execution_count": null,
   "id": "1286576e",
   "metadata": {},
   "outputs": [
    {
     "name": "stdout",
     "output_type": "stream",
     "text": [
      "Collecting numpy\n",
      "  Downloading numpy-2.2.6-cp312-cp312-win_amd64.whl.metadata (60 kB)\n",
      "Downloading numpy-2.2.6-cp312-cp312-win_amd64.whl (12.6 MB)\n",
      "   ---------------------------------------- 0.0/12.6 MB ? eta -:--:--\n",
      "   -------------- ------------------------- 4.5/12.6 MB 24.4 MB/s eta 0:00:01\n",
      "   ------------------------------- -------- 10.0/12.6 MB 24.8 MB/s eta 0:00:01\n",
      "   ---------------------------------------- 12.6/12.6 MB 23.3 MB/s eta 0:00:00\n",
      "Installing collected packages: numpy\n",
      "Successfully installed numpy-2.2.6\n"
     ]
    }
   ],
   "source": [
    "! pip install numpy"
   ]
  },
  {
   "cell_type": "code",
   "execution_count": 2,
   "id": "22c8e0f1",
   "metadata": {},
   "outputs": [],
   "source": [
    "import numpy as np\n",
    "import time"
   ]
  },
  {
   "cell_type": "code",
   "execution_count": null,
   "id": "5a2e2826",
   "metadata": {},
   "outputs": [],
   "source": [
    "\n",
    "def time_it(func):\n",
    "    def wrapper(*args):\n",
    "        start_t = time.time()\n",
    "        func(*args)\n",
    "        end_t = time.time()\n",
    "        time_taken = end_t-start_t\n",
    "        print(f\"Time taken {time_taken}\")\n",
    "    return wrapper    "
   ]
  },
  {
   "cell_type": "code",
   "execution_count": null,
   "id": "ccd6976f",
   "metadata": {},
   "outputs": [],
   "source": [
    "@time_it\n",
    "def python_add():\n",
    "    a = list(range(1000000))\n",
    "    b = list(range(1000000))\n",
    "    c = [x+y for x,y in zip(a,b)]"
   ]
  },
  {
   "cell_type": "code",
   "execution_count": null,
   "id": "151eb6df",
   "metadata": {},
   "outputs": [
    {
     "name": "stdout",
     "output_type": "stream",
     "text": [
      "Time taken 0.37226438522338867\n"
     ]
    }
   ],
   "source": [
    "time_taken = python_add()"
   ]
  },
  {
   "cell_type": "markdown",
   "id": "f937efbe",
   "metadata": {},
   "source": [
    "# traditional way"
   ]
  },
  {
   "cell_type": "code",
   "execution_count": 6,
   "id": "36613171",
   "metadata": {},
   "outputs": [
    {
     "name": "stdout",
     "output_type": "stream",
     "text": [
      "Time taken 0.6695010662078857\n"
     ]
    }
   ],
   "source": [
    "a = list(range(10000000))\n",
    "b = list(range(10000000))\n",
    "\n",
    "start_t = time.time()\n",
    "c = [x+y for x,y in zip(a,b)]\n",
    "# print(c)\n",
    "end_t = time.time()\n",
    "time_taken = end_t-start_t\n",
    "print(f\"Time taken {time_taken}\")"
   ]
  },
  {
   "cell_type": "markdown",
   "id": "5dcd728d",
   "metadata": {},
   "source": [
    "# in Numpy version"
   ]
  },
  {
   "cell_type": "code",
   "execution_count": 9,
   "id": "bcf8b93d",
   "metadata": {},
   "outputs": [
    {
     "name": "stdout",
     "output_type": "stream",
     "text": [
      "Time taken 0.034494638442993164\n"
     ]
    }
   ],
   "source": [
    "a = list(range(10000000))\n",
    "b = list(range(10000000))\n",
    "a = np.array(a)\n",
    "b = np.array(b)\n",
    "\n",
    "start_t = time.time()\n",
    "c = a+b\n",
    "# print(c)\n",
    "end_t = time.time()\n",
    "time_taken = end_t-start_t\n",
    "print(f\"Time taken {time_taken}\")"
   ]
  },
  {
   "cell_type": "markdown",
   "id": "359ac93b",
   "metadata": {},
   "source": [
    "# np range\n",
    "# arange(start,stop,step)"
   ]
  },
  {
   "cell_type": "code",
   "execution_count": 10,
   "id": "7e29fd37",
   "metadata": {},
   "outputs": [
    {
     "name": "stdout",
     "output_type": "stream",
     "text": [
      "[0 1 2 3 4]\n"
     ]
    }
   ],
   "source": [
    "print(np.arange(5))"
   ]
  },
  {
   "cell_type": "code",
   "execution_count": 14,
   "id": "b3e6a36a",
   "metadata": {},
   "outputs": [
    {
     "name": "stdout",
     "output_type": "stream",
     "text": [
      "[1 3 5 7 9]\n",
      "<class 'numpy.ndarray'>\n"
     ]
    }
   ],
   "source": [
    "print(np.arange(1,10,2))\n",
    "np_arange = np.arange(1,10,2)\n",
    "print(type(np_arange))"
   ]
  },
  {
   "cell_type": "markdown",
   "id": "a50d0688",
   "metadata": {},
   "source": [
    "# np.linespace(start,stop, num =x)"
   ]
  },
  {
   "cell_type": "code",
   "execution_count": 26,
   "id": "3d77c446",
   "metadata": {},
   "outputs": [
    {
     "name": "stdout",
     "output_type": "stream",
     "text": [
      "<class 'numpy.ndarray'>\n",
      "[  1.  12.  23.  34.  45.  56.  67.  78.  89. 100.]\n"
     ]
    }
   ],
   "source": [
    "np_linespace = np.linspace(1,100,10)\n",
    "print(type(np_linespace))\n",
    "print(np_linespace)   # diff between each number 11 for 10 count"
   ]
  },
  {
   "cell_type": "code",
   "execution_count": 27,
   "id": "cc3f547b",
   "metadata": {},
   "outputs": [
    {
     "name": "stdout",
     "output_type": "stream",
     "text": [
      "1.0\n",
      "2.0\n",
      "3.0\n",
      "4.0\n",
      "5.0\n",
      "6.0\n",
      "7.0\n",
      "8.0\n",
      "9.0\n",
      "10.0\n"
     ]
    }
   ],
   "source": [
    "for i in np.linspace(1,10,10):\n",
    "    print(i)"
   ]
  },
  {
   "cell_type": "markdown",
   "id": "201a8e1f",
   "metadata": {},
   "source": [
    "# np.zeros(shape)"
   ]
  },
  {
   "cell_type": "code",
   "execution_count": null,
   "id": "db064c2d",
   "metadata": {},
   "outputs": [
    {
     "data": {
      "text/plain": [
       "array([0., 0., 0., 0., 0.])"
      ]
     },
     "execution_count": 28,
     "metadata": {},
     "output_type": "execute_result"
    }
   ],
   "source": [
    "np.zeros(5)"
   ]
  },
  {
   "cell_type": "markdown",
   "id": "4dfedee9",
   "metadata": {},
   "source": [
    "# List"
   ]
  },
  {
   "cell_type": "code",
   "execution_count": 30,
   "id": "c3031fd0",
   "metadata": {},
   "outputs": [
    {
     "name": "stdout",
     "output_type": "stream",
     "text": [
      "[1, 2, 3]\n"
     ]
    }
   ],
   "source": [
    "a = [1,2,3]\n",
    "print(a)"
   ]
  },
  {
   "cell_type": "code",
   "execution_count": 33,
   "id": "91d2e1fa",
   "metadata": {},
   "outputs": [
    {
     "data": {
      "text/plain": [
       "[1, 2, 3]"
      ]
     },
     "execution_count": 33,
     "metadata": {},
     "output_type": "execute_result"
    }
   ],
   "source": [
    "a = [[1,2,3],[2,2,3]]\n",
    "a[0]"
   ]
  },
  {
   "cell_type": "code",
   "execution_count": 34,
   "id": "d8eb5174",
   "metadata": {},
   "outputs": [
    {
     "data": {
      "text/plain": [
       "[2, 2, 3]"
      ]
     },
     "execution_count": 34,
     "metadata": {},
     "output_type": "execute_result"
    }
   ],
   "source": [
    "a[1]"
   ]
  },
  {
   "cell_type": "code",
   "execution_count": 36,
   "id": "97bf83ad",
   "metadata": {},
   "outputs": [],
   "source": [
    "npz= np.zeros(5)\n"
   ]
  },
  {
   "cell_type": "code",
   "execution_count": 37,
   "id": "ec97fbf3",
   "metadata": {},
   "outputs": [
    {
     "data": {
      "text/plain": [
       "1"
      ]
     },
     "execution_count": 37,
     "metadata": {},
     "output_type": "execute_result"
    }
   ],
   "source": [
    "npz.ndim"
   ]
  },
  {
   "cell_type": "code",
   "execution_count": 47,
   "id": "189dd077",
   "metadata": {},
   "outputs": [],
   "source": [
    "npz_2d= np.zeros((5,5))"
   ]
  },
  {
   "cell_type": "code",
   "execution_count": 48,
   "id": "81b20364",
   "metadata": {},
   "outputs": [
    {
     "data": {
      "text/plain": [
       "array([[0., 0., 0., 0., 0.],\n",
       "       [0., 0., 0., 0., 0.],\n",
       "       [0., 0., 0., 0., 0.],\n",
       "       [0., 0., 0., 0., 0.],\n",
       "       [0., 0., 0., 0., 0.]])"
      ]
     },
     "execution_count": 48,
     "metadata": {},
     "output_type": "execute_result"
    }
   ],
   "source": [
    "npz_2d"
   ]
  },
  {
   "cell_type": "code",
   "execution_count": 49,
   "id": "9441b9ef",
   "metadata": {},
   "outputs": [
    {
     "data": {
      "text/plain": [
       "2"
      ]
     },
     "execution_count": 49,
     "metadata": {},
     "output_type": "execute_result"
    }
   ],
   "source": [
    "npz_2d.ndim"
   ]
  },
  {
   "cell_type": "code",
   "execution_count": 50,
   "id": "131542bc",
   "metadata": {},
   "outputs": [],
   "source": [
    "npz_3d= np.zeros((5,5,5))"
   ]
  },
  {
   "cell_type": "code",
   "execution_count": 51,
   "id": "064f3f4e",
   "metadata": {},
   "outputs": [
    {
     "data": {
      "text/plain": [
       "array([[[0., 0., 0., 0., 0.],\n",
       "        [0., 0., 0., 0., 0.],\n",
       "        [0., 0., 0., 0., 0.],\n",
       "        [0., 0., 0., 0., 0.],\n",
       "        [0., 0., 0., 0., 0.]],\n",
       "\n",
       "       [[0., 0., 0., 0., 0.],\n",
       "        [0., 0., 0., 0., 0.],\n",
       "        [0., 0., 0., 0., 0.],\n",
       "        [0., 0., 0., 0., 0.],\n",
       "        [0., 0., 0., 0., 0.]],\n",
       "\n",
       "       [[0., 0., 0., 0., 0.],\n",
       "        [0., 0., 0., 0., 0.],\n",
       "        [0., 0., 0., 0., 0.],\n",
       "        [0., 0., 0., 0., 0.],\n",
       "        [0., 0., 0., 0., 0.]],\n",
       "\n",
       "       [[0., 0., 0., 0., 0.],\n",
       "        [0., 0., 0., 0., 0.],\n",
       "        [0., 0., 0., 0., 0.],\n",
       "        [0., 0., 0., 0., 0.],\n",
       "        [0., 0., 0., 0., 0.]],\n",
       "\n",
       "       [[0., 0., 0., 0., 0.],\n",
       "        [0., 0., 0., 0., 0.],\n",
       "        [0., 0., 0., 0., 0.],\n",
       "        [0., 0., 0., 0., 0.],\n",
       "        [0., 0., 0., 0., 0.]]])"
      ]
     },
     "execution_count": 51,
     "metadata": {},
     "output_type": "execute_result"
    }
   ],
   "source": [
    "npz_3d"
   ]
  },
  {
   "cell_type": "code",
   "execution_count": 52,
   "id": "672d632f",
   "metadata": {},
   "outputs": [
    {
     "data": {
      "text/plain": [
       "3"
      ]
     },
     "execution_count": 52,
     "metadata": {},
     "output_type": "execute_result"
    }
   ],
   "source": [
    "npz_3d.ndim"
   ]
  },
  {
   "cell_type": "code",
   "execution_count": null,
   "id": "e9478b18",
   "metadata": {},
   "outputs": [],
   "source": []
  }
 ],
 "metadata": {
  "kernelspec": {
   "display_name": "Python 3",
   "language": "python",
   "name": "python3"
  },
  "language_info": {
   "codemirror_mode": {
    "name": "ipython",
    "version": 3
   },
   "file_extension": ".py",
   "mimetype": "text/x-python",
   "name": "python",
   "nbconvert_exporter": "python",
   "pygments_lexer": "ipython3",
   "version": "3.12.0"
  }
 },
 "nbformat": 4,
 "nbformat_minor": 5
}
