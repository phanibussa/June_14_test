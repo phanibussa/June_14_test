{
 "cells": [
  {
   "cell_type": "markdown",
   "id": "30cbe04a",
   "metadata": {},
   "source": [
    "# Numpy Math opertaions"
   ]
  },
  {
   "cell_type": "code",
   "execution_count": 2,
   "id": "1a8a956c",
   "metadata": {},
   "outputs": [
    {
     "data": {
      "text/plain": [
       "[1, 2, 3, 4, 5, 6]"
      ]
     },
     "execution_count": 2,
     "metadata": {},
     "output_type": "execute_result"
    }
   ],
   "source": [
    "a =[1,2,3]\n",
    "b=[4,5,6]\n",
    "a+b"
   ]
  },
  {
   "cell_type": "code",
   "execution_count": 3,
   "id": "579302e5",
   "metadata": {},
   "outputs": [],
   "source": [
    "import numpy as np"
   ]
  },
  {
   "cell_type": "code",
   "execution_count": 6,
   "id": "6c542822",
   "metadata": {},
   "outputs": [
    {
     "data": {
      "text/plain": [
       "array([5, 7, 9])"
      ]
     },
     "execution_count": 6,
     "metadata": {},
     "output_type": "execute_result"
    }
   ],
   "source": [
    "a = np.array([1,2,3])\n",
    "b = np.array([4,5,6])\n",
    "a+b"
   ]
  },
  {
   "cell_type": "code",
   "execution_count": 7,
   "id": "a416fc2c",
   "metadata": {},
   "outputs": [
    {
     "data": {
      "text/plain": [
       "array([-3, -3, -3])"
      ]
     },
     "execution_count": 7,
     "metadata": {},
     "output_type": "execute_result"
    }
   ],
   "source": [
    "a-b"
   ]
  },
  {
   "cell_type": "code",
   "execution_count": 8,
   "id": "00910e6e",
   "metadata": {},
   "outputs": [
    {
     "data": {
      "text/plain": [
       "array([0.25, 0.4 , 0.5 ])"
      ]
     },
     "execution_count": 8,
     "metadata": {},
     "output_type": "execute_result"
    }
   ],
   "source": [
    "a/b"
   ]
  },
  {
   "cell_type": "markdown",
   "id": "188eff22",
   "metadata": {},
   "source": [
    "# Comparison"
   ]
  },
  {
   "cell_type": "code",
   "execution_count": 9,
   "id": "a6779f3f",
   "metadata": {},
   "outputs": [
    {
     "name": "stdout",
     "output_type": "stream",
     "text": [
      "[False False False]\n"
     ]
    }
   ],
   "source": [
    "print(a>b)"
   ]
  },
  {
   "cell_type": "code",
   "execution_count": 10,
   "id": "0036be36",
   "metadata": {},
   "outputs": [
    {
     "name": "stdout",
     "output_type": "stream",
     "text": [
      "[False False False]\n"
     ]
    }
   ],
   "source": [
    "print(a==b)"
   ]
  },
  {
   "cell_type": "markdown",
   "id": "e32b5328",
   "metadata": {},
   "source": [
    "# logical operators\n"
   ]
  },
  {
   "cell_type": "code",
   "execution_count": 11,
   "id": "c2dbbc0c",
   "metadata": {},
   "outputs": [
    {
     "name": "stdout",
     "output_type": "stream",
     "text": [
      "[ True False False]\n"
     ]
    }
   ],
   "source": [
    "x = np.array([True, False, True])\n",
    "y = np.array([True, False, False])\n",
    "\n",
    "print(np.logical_and(x,y))"
   ]
  },
  {
   "cell_type": "markdown",
   "id": "53cec2a1",
   "metadata": {},
   "source": [
    "# Bitwise OPerators"
   ]
  },
  {
   "cell_type": "markdown",
   "id": "68e9fefb",
   "metadata": {},
   "source": []
  },
  {
   "cell_type": "code",
   "execution_count": 12,
   "id": "f82f5490",
   "metadata": {},
   "outputs": [
    {
     "name": "stdout",
     "output_type": "stream",
     "text": [
      "[0 0 2]\n"
     ]
    }
   ],
   "source": [
    "a = np.array([1,2,3])\n",
    "b = np.array([4,5,6])\n",
    "\n",
    "print(np.bitwise_and(a,b))"
   ]
  },
  {
   "cell_type": "markdown",
   "id": "6848e9dc",
   "metadata": {},
   "source": [
    "# scalar oprtaions"
   ]
  },
  {
   "cell_type": "code",
   "execution_count": null,
   "id": "b12cd475",
   "metadata": {},
   "outputs": [
    {
     "name": "stdout",
     "output_type": "stream",
     "text": [
      "[32. 50. 68. 86.]\n"
     ]
    }
   ],
   "source": [
    "celcius = np.array([0,10,20,30])\n",
    "\n",
    "\n",
    "print(celcius * 9 /5 +32) # to_farenheit"
   ]
  },
  {
   "cell_type": "code",
   "execution_count": 18,
   "id": "3614f447",
   "metadata": {},
   "outputs": [
    {
     "ename": "TypeError",
     "evalue": "unsupported operand type(s) for /: 'list' and 'int'",
     "output_type": "error",
     "traceback": [
      "\u001b[31m---------------------------------------------------------------------------\u001b[39m",
      "\u001b[31mTypeError\u001b[39m                                 Traceback (most recent call last)",
      "\u001b[36mCell\u001b[39m\u001b[36m \u001b[39m\u001b[32mIn[18]\u001b[39m\u001b[32m, line 4\u001b[39m\n\u001b[32m      1\u001b[39m celcius = [\u001b[32m0\u001b[39m,\u001b[32m10\u001b[39m,\u001b[32m20\u001b[39m,\u001b[32m30\u001b[39m] \u001b[38;5;66;03m# in python this is not possible\u001b[39;00m\n\u001b[32m----> \u001b[39m\u001b[32m4\u001b[39m \u001b[38;5;28mprint\u001b[39m(\u001b[43mcelcius\u001b[49m\u001b[43m \u001b[49m\u001b[43m*\u001b[49m\u001b[43m \u001b[49m\u001b[32;43m9\u001b[39;49m\u001b[43m \u001b[49m\u001b[43m/\u001b[49m\u001b[32;43m5\u001b[39;49m +\u001b[32m32\u001b[39m) \u001b[38;5;66;03m# to_farenheit\u001b[39;00m\n",
      "\u001b[31mTypeError\u001b[39m: unsupported operand type(s) for /: 'list' and 'int'"
     ]
    }
   ],
   "source": [
    "celcius = [0,10,20,30] # in python this is not possible\n",
    "\n",
    "\n",
    "print(celcius * 9 /5 +32) # to_farenheit"
   ]
  },
  {
   "cell_type": "markdown",
   "id": "f968d1dc",
   "metadata": {},
   "source": []
  },
  {
   "cell_type": "markdown",
   "id": "ce69d370",
   "metadata": {},
   "source": [
    "# common math ops\n"
   ]
  },
  {
   "cell_type": "code",
   "execution_count": 19,
   "id": "55cb39aa",
   "metadata": {},
   "outputs": [],
   "source": [
    "a = np.array([1,2,3,4])"
   ]
  },
  {
   "cell_type": "code",
   "execution_count": null,
   "id": "7e113a6b",
   "metadata": {},
   "outputs": [
    {
     "name": "stdout",
     "output_type": "stream",
     "text": [
      "[1.         1.41421356 1.73205081 2.        ]\n",
      "[ 2.71828183  7.3890561  20.08553692 54.59815003]\n"
     ]
    }
   ],
   "source": [
    "print(np.sqrt(a))\n",
    "print(np.exp(a)) # e^1 e value It's approximately 2.71828"
   ]
  },
  {
   "cell_type": "markdown",
   "id": "767ca2fc",
   "metadata": {},
   "source": [
    "# Matrix operation"
   ]
  },
  {
   "cell_type": "markdown",
   "id": "dd4be350",
   "metadata": {},
   "source": [
    "# element wise oprtaions "
   ]
  },
  {
   "cell_type": "code",
   "execution_count": 22,
   "id": "3a9cf0be",
   "metadata": {},
   "outputs": [],
   "source": [
    "units = np.array([100,200,150])\n",
    "profit = np.array([10,20,30])"
   ]
  },
  {
   "cell_type": "code",
   "execution_count": 23,
   "id": "3bd96e7a",
   "metadata": {},
   "outputs": [
    {
     "data": {
      "text/plain": [
       "array([1000, 4000, 4500])"
      ]
     },
     "execution_count": 23,
     "metadata": {},
     "output_type": "execute_result"
    }
   ],
   "source": [
    "units*profit"
   ]
  },
  {
   "cell_type": "markdown",
   "id": "49a48981",
   "metadata": {},
   "source": [
    "# Dot Product"
   ]
  },
  {
   "cell_type": "code",
   "execution_count": 25,
   "id": "ffedcb19",
   "metadata": {},
   "outputs": [],
   "source": [
    "# sqft\n",
    "# bedrooms\n",
    "# location  = 1 is good 0 is bad\n",
    "\n",
    "# ouput - predict the price"
   ]
  },
  {
   "cell_type": "code",
   "execution_count": 32,
   "id": "7462b98b",
   "metadata": {},
   "outputs": [],
   "source": [
    "house = np.array([1200,3,1])"
   ]
  },
  {
   "cell_type": "code",
   "execution_count": 33,
   "id": "fbd2cbd6",
   "metadata": {},
   "outputs": [
    {
     "data": {
      "text/plain": [
       "(3,)"
      ]
     },
     "execution_count": 33,
     "metadata": {},
     "output_type": "execute_result"
    }
   ],
   "source": [
    "house.shape"
   ]
  },
  {
   "cell_type": "code",
   "execution_count": 34,
   "id": "0cbe4284",
   "metadata": {},
   "outputs": [],
   "source": [
    "w = np.array([200,10000,50000])"
   ]
  },
  {
   "cell_type": "code",
   "execution_count": null,
   "id": "f94c99c9",
   "metadata": {},
   "outputs": [
    {
     "data": {
      "text/plain": [
       "(3,)"
      ]
     },
     "execution_count": 35,
     "metadata": {},
     "output_type": "execute_result"
    }
   ],
   "source": [
    "w.shape1"
   ]
  },
  {
   "cell_type": "code",
   "execution_count": 37,
   "id": "316c1d70",
   "metadata": {},
   "outputs": [
    {
     "name": "stdout",
     "output_type": "stream",
     "text": [
      "320000\n"
     ]
    }
   ],
   "source": [
    "print(np.dot(house,w))"
   ]
  },
  {
   "cell_type": "code",
   "execution_count": 40,
   "id": "748374a3",
   "metadata": {},
   "outputs": [],
   "source": [
    "house = np.array([[1200,3,1],\n",
    "                 [1200,2,0],\n",
    "                 [2400,4,2]])\n",
    "w = np.array([200,10000,50000])"
   ]
  },
  {
   "cell_type": "code",
   "execution_count": 41,
   "id": "4eec038e",
   "metadata": {},
   "outputs": [
    {
     "name": "stdout",
     "output_type": "stream",
     "text": [
      "[320000 260000 620000]\n"
     ]
    }
   ],
   "source": [
    "print(np.dot(house,w))"
   ]
  },
  {
   "cell_type": "code",
   "execution_count": 43,
   "id": "90ba1e76",
   "metadata": {},
   "outputs": [
    {
     "name": "stdout",
     "output_type": "stream",
     "text": [
      "[320000 260000 620000]\n"
     ]
    }
   ],
   "source": [
    "print(house @ w) # @ represent Dot Product"
   ]
  },
  {
   "cell_type": "code",
   "execution_count": null,
   "id": "d755af50",
   "metadata": {},
   "outputs": [],
   "source": []
  }
 ],
 "metadata": {
  "kernelspec": {
   "display_name": "Python 3",
   "language": "python",
   "name": "python3"
  },
  "language_info": {
   "codemirror_mode": {
    "name": "ipython",
    "version": 3
   },
   "file_extension": ".py",
   "mimetype": "text/x-python",
   "name": "python",
   "nbconvert_exporter": "python",
   "pygments_lexer": "ipython3",
   "version": "3.12.0"
  }
 },
 "nbformat": 4,
 "nbformat_minor": 5
}
