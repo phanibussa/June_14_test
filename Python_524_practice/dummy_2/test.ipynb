{
 "cells": [
  {
   "cell_type": "code",
   "execution_count": 4,
   "id": "5d960330",
   "metadata": {},
   "outputs": [
    {
     "ename": "ModuleNotFoundError",
     "evalue": "No module named 'hospital'",
     "output_type": "error",
     "traceback": [
      "\u001b[31m---------------------------------------------------------------------------\u001b[39m",
      "\u001b[31mModuleNotFoundError\u001b[39m                       Traceback (most recent call last)",
      "\u001b[36mCell\u001b[39m\u001b[36m \u001b[39m\u001b[32mIn[4]\u001b[39m\u001b[32m, line 1\u001b[39m\n\u001b[32m----> \u001b[39m\u001b[32m1\u001b[39m \u001b[38;5;28;01mfrom\u001b[39;00m\u001b[38;5;250m \u001b[39m\u001b[34;01mhospital\u001b[39;00m\u001b[34;01m.\u001b[39;00m\u001b[34;01madmission\u001b[39;00m\u001b[34;01m.\u001b[39;00m\u001b[34;01mutils\u001b[39;00m\u001b[38;5;250m \u001b[39m\u001b[38;5;28;01mimport\u001b[39;00m add\n",
      "\u001b[31mModuleNotFoundError\u001b[39m: No module named 'hospital'"
     ]
    }
   ],
   "source": [
    "from hospital.admission.utils import add"
   ]
  },
  {
   "cell_type": "code",
   "execution_count": 6,
   "id": "305cfac6",
   "metadata": {},
   "outputs": [],
   "source": [
    "import sys\n",
    "import os"
   ]
  },
  {
   "cell_type": "code",
   "execution_count": 8,
   "id": "ad9b7fab",
   "metadata": {},
   "outputs": [],
   "source": [
    "sys.path.append(\"C:/Users/phani/OneDrive/Desktop/workspace/ML_BookCamp/Python/Python_524_practice\")"
   ]
  },
  {
   "cell_type": "code",
   "execution_count": 9,
   "id": "c844992b",
   "metadata": {},
   "outputs": [],
   "source": [
    "from hospital.admission.utils import add"
   ]
  },
  {
   "cell_type": "code",
   "execution_count": 10,
   "id": "235d4273",
   "metadata": {},
   "outputs": [
    {
     "data": {
      "text/plain": [
       "'c:\\\\Users\\\\phani\\\\OneDrive\\\\Desktop\\\\workspace\\\\ML_BookCamp\\\\Python\\\\Python_524_practice\\\\dummy_2'"
      ]
     },
     "execution_count": 10,
     "metadata": {},
     "output_type": "execute_result"
    }
   ],
   "source": [
    "os.path.abspath(\".\")"
   ]
  },
  {
   "cell_type": "code",
   "execution_count": 11,
   "id": "758277d5",
   "metadata": {},
   "outputs": [
    {
     "data": {
      "text/plain": [
       "'c:\\\\Users\\\\phani\\\\OneDrive\\\\Desktop\\\\workspace\\\\ML_BookCamp\\\\Python\\\\Python_524_practice'"
      ]
     },
     "execution_count": 11,
     "metadata": {},
     "output_type": "execute_result"
    }
   ],
   "source": [
    "os.path.abspath(\"..\") # go 1 level up"
   ]
  },
  {
   "cell_type": "code",
   "execution_count": 12,
   "id": "14561142",
   "metadata": {},
   "outputs": [
    {
     "data": {
      "text/plain": [
       "'c:\\\\Users\\\\phani\\\\OneDrive\\\\Desktop\\\\workspace\\\\ML_BookCamp\\\\Python\\\\Python_524_practice'"
      ]
     },
     "execution_count": 12,
     "metadata": {},
     "output_type": "execute_result"
    }
   ],
   "source": [
    "os.path.abspath(\"../\") # go 1 level up"
   ]
  },
  {
   "cell_type": "code",
   "execution_count": 13,
   "id": "d2bddd28",
   "metadata": {},
   "outputs": [
    {
     "data": {
      "text/plain": [
       "'c:\\\\Users\\\\phani\\\\OneDrive\\\\Desktop\\\\workspace\\\\ML_BookCamp\\\\Python'"
      ]
     },
     "execution_count": 13,
     "metadata": {},
     "output_type": "execute_result"
    }
   ],
   "source": [
    "os.path.abspath(\"../..\")"
   ]
  },
  {
   "cell_type": "code",
   "execution_count": 14,
   "id": "50ca8b6f",
   "metadata": {},
   "outputs": [
    {
     "data": {
      "text/plain": [
       "'c:\\\\Users\\\\phani\\\\OneDrive\\\\Desktop\\\\workspace\\\\ML_BookCamp'"
      ]
     },
     "execution_count": 14,
     "metadata": {},
     "output_type": "execute_result"
    }
   ],
   "source": [
    "os.path.abspath(\"../../..\")"
   ]
  },
  {
   "cell_type": "code",
   "execution_count": 15,
   "id": "f06c8f2d",
   "metadata": {},
   "outputs": [],
   "source": [
    "sys.path.append(os.path.abspath(\"..\"))"
   ]
  },
  {
   "cell_type": "code",
   "execution_count": null,
   "id": "a605597b",
   "metadata": {},
   "outputs": [],
   "source": []
  },
  {
   "cell_type": "code",
   "execution_count": null,
   "id": "030418b3",
   "metadata": {},
   "outputs": [],
   "source": []
  },
  {
   "cell_type": "code",
   "execution_count": null,
   "id": "22186721",
   "metadata": {},
   "outputs": [],
   "source": []
  }
 ],
 "metadata": {
  "kernelspec": {
   "display_name": "Python 3",
   "language": "python",
   "name": "python3"
  },
  "language_info": {
   "codemirror_mode": {
    "name": "ipython",
    "version": 3
   },
   "file_extension": ".py",
   "mimetype": "text/x-python",
   "name": "python",
   "nbconvert_exporter": "python",
   "pygments_lexer": "ipython3",
   "version": "3.12.0"
  }
 },
 "nbformat": 4,
 "nbformat_minor": 5
}
