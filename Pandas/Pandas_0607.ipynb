{
 "cells": [
  {
   "cell_type": "code",
   "execution_count": 1,
   "id": "e4d27e12",
   "metadata": {},
   "outputs": [
    {
     "name": "stdout",
     "output_type": "stream",
     "text": [
      "Collecting pandas\n",
      "  Downloading pandas-2.3.0-cp312-cp312-win_amd64.whl.metadata (19 kB)\n",
      "Requirement already satisfied: numpy>=1.26.0 in c:\\users\\phani\\onedrive\\desktop\\workspace\\ml_bookcamp\\python\\venv\\lib\\site-packages (from pandas) (2.2.6)\n",
      "Requirement already satisfied: python-dateutil>=2.8.2 in c:\\users\\phani\\onedrive\\desktop\\workspace\\ml_bookcamp\\python\\venv\\lib\\site-packages (from pandas) (2.9.0.post0)\n",
      "Collecting pytz>=2020.1 (from pandas)\n",
      "  Using cached pytz-2025.2-py2.py3-none-any.whl.metadata (22 kB)\n",
      "Collecting tzdata>=2022.7 (from pandas)\n",
      "  Using cached tzdata-2025.2-py2.py3-none-any.whl.metadata (1.4 kB)\n",
      "Requirement already satisfied: six>=1.5 in c:\\users\\phani\\onedrive\\desktop\\workspace\\ml_bookcamp\\python\\venv\\lib\\site-packages (from python-dateutil>=2.8.2->pandas) (1.17.0)\n",
      "Downloading pandas-2.3.0-cp312-cp312-win_amd64.whl (11.0 MB)\n",
      "   ---------------------------------------- 0.0/11.0 MB ? eta -:--:--\n",
      "   ---------- ----------------------------- 2.9/11.0 MB 16.8 MB/s eta 0:00:01\n",
      "   ---------------------------- ----------- 7.9/11.0 MB 21.1 MB/s eta 0:00:01\n",
      "   ---------------------------------------- 11.0/11.0 MB 22.1 MB/s eta 0:00:00\n",
      "Using cached pytz-2025.2-py2.py3-none-any.whl (509 kB)\n",
      "Using cached tzdata-2025.2-py2.py3-none-any.whl (347 kB)\n",
      "Installing collected packages: pytz, tzdata, pandas\n",
      "Successfully installed pandas-2.3.0 pytz-2025.2 tzdata-2025.2\n"
     ]
    }
   ],
   "source": [
    "!pip install pandas"
   ]
  },
  {
   "cell_type": "code",
   "execution_count": 2,
   "id": "a4059d3c",
   "metadata": {},
   "outputs": [],
   "source": [
    "# types of data types\n",
    "    # array\n",
    "    # list\n",
    "    # dict\n",
    "    # tuple\n",
    "    # set\n",
    "    # matrix\n",
    "    # vector\n",
    "    "
   ]
  },
  {
   "cell_type": "code",
   "execution_count": 3,
   "id": "0256c40e",
   "metadata": {},
   "outputs": [],
   "source": [
    "# Series in Pandas \n",
    "    # its one dimensional labled array"
   ]
  },
  {
   "cell_type": "code",
   "execution_count": 6,
   "id": "0a0e9541",
   "metadata": {},
   "outputs": [],
   "source": [
    "import pandas as pd"
   ]
  },
  {
   "cell_type": "code",
   "execution_count": 8,
   "id": "617bf0e9",
   "metadata": {},
   "outputs": [],
   "source": [
    "s1 = pd.Series([10,20,30,40,50,60])"
   ]
  },
  {
   "cell_type": "code",
   "execution_count": 9,
   "id": "5d1e49f5",
   "metadata": {},
   "outputs": [
    {
     "name": "stdout",
     "output_type": "stream",
     "text": [
      "0    10\n",
      "1    20\n",
      "2    30\n",
      "3    40\n",
      "4    50\n",
      "5    60\n",
      "dtype: int64\n"
     ]
    }
   ],
   "source": [
    "print(s1)"
   ]
  },
  {
   "cell_type": "code",
   "execution_count": 11,
   "id": "ee85d047",
   "metadata": {},
   "outputs": [
    {
     "name": "stdout",
     "output_type": "stream",
     "text": [
      "a    10\n",
      "b    20\n",
      "c    30\n",
      "d    40\n",
      "e    50\n",
      "f    60\n",
      "Name: scores, dtype: int64\n"
     ]
    }
   ],
   "source": [
    "s2 = pd.Series([10,20,30,40,50,60], index=['a','b','c','d','e','f'],name='scores')\n",
    "print(s2)"
   ]
  },
  {
   "cell_type": "code",
   "execution_count": 13,
   "id": "102cf890",
   "metadata": {},
   "outputs": [
    {
     "name": "stdout",
     "output_type": "stream",
     "text": [
      "a    10\n",
      "b    20\n",
      "c    30\n",
      "d    40\n",
      "dtype: int64\n"
     ]
    }
   ],
   "source": [
    "# cretae series from dict\n",
    "\n",
    "data = {'a':10, 'b':20,'c':30,'d':40}\n",
    "s3 = pd.Series(data)\n",
    "print(s3)"
   ]
  },
  {
   "cell_type": "code",
   "execution_count": 14,
   "id": "71b8e261",
   "metadata": {},
   "outputs": [],
   "source": [
    "import numpy as np\n"
   ]
  },
  {
   "cell_type": "code",
   "execution_count": 15,
   "id": "46bef993",
   "metadata": {},
   "outputs": [
    {
     "name": "stdout",
     "output_type": "stream",
     "text": [
      "0    10\n",
      "1    20\n",
      "2    30\n",
      "3    40\n",
      "4    50\n",
      "5    60\n",
      "dtype: int64\n"
     ]
    }
   ],
   "source": [
    "np_array = np.array([10,20,30,40,50,60])\n",
    "s4 = pd.Series(np_array)\n",
    "print(s4)\n"
   ]
  },
  {
   "cell_type": "code",
   "execution_count": 16,
   "id": "be34be4d",
   "metadata": {},
   "outputs": [
    {
     "name": "stdout",
     "output_type": "stream",
     "text": [
      "a      10\n",
      "b      20\n",
      "c    1.11\n",
      "d    True\n",
      "dtype: object\n"
     ]
    }
   ],
   "source": [
    "# cretae series from dict\n",
    "\n",
    "data = {'a':10, 'b':20,'c':1.11,'d':True}\n",
    "s5 = pd.Series(data)\n",
    "print(s5)"
   ]
  },
  {
   "cell_type": "markdown",
   "id": "c6a6475b",
   "metadata": {},
   "source": [
    "# Series indexing and slicing"
   ]
  },
  {
   "cell_type": "code",
   "execution_count": 31,
   "id": "02b48785",
   "metadata": {},
   "outputs": [
    {
     "name": "stdout",
     "output_type": "stream",
     "text": [
      "a    10\n",
      "b    20\n",
      "c    30\n",
      "d    40\n",
      "Name: scores, dtype: int64\n"
     ]
    }
   ],
   "source": [
    "# cretae series from dict\n",
    "\n",
    "data = {'a':10, 'b':20,'c':30,'d':40}\n",
    "s7 = pd.Series(data,name='scores')\n",
    "print(s7)"
   ]
  },
  {
   "cell_type": "code",
   "execution_count": 23,
   "id": "b1c2c11a",
   "metadata": {},
   "outputs": [
    {
     "name": "stdout",
     "output_type": "stream",
     "text": [
      "Index(['a', 'b', 'c', 'd'], dtype='object')\n",
      "[10 20 30 40]\n",
      "int64\n",
      "scores\n",
      "(4,)\n"
     ]
    }
   ],
   "source": [
    "print(s7.index)\n",
    "print(s7.values)\n",
    "print(s7.dtypes)\n",
    "print(s7.name)\n",
    "print(s7.shape)"
   ]
  },
  {
   "cell_type": "code",
   "execution_count": 24,
   "id": "2ac4822f",
   "metadata": {},
   "outputs": [
    {
     "name": "stdout",
     "output_type": "stream",
     "text": [
      "a    10\n",
      "b    20\n",
      "c    30\n",
      "d    40\n",
      "Name: scores, dtype: int64\n"
     ]
    }
   ],
   "source": [
    "print(s7)"
   ]
  },
  {
   "cell_type": "code",
   "execution_count": 25,
   "id": "5d4133c4",
   "metadata": {},
   "outputs": [
    {
     "name": "stdout",
     "output_type": "stream",
     "text": [
      "10\n"
     ]
    }
   ],
   "source": [
    "print(s7.values[0])"
   ]
  },
  {
   "cell_type": "code",
   "execution_count": 26,
   "id": "cf22a915",
   "metadata": {},
   "outputs": [
    {
     "name": "stdout",
     "output_type": "stream",
     "text": [
      "a\n"
     ]
    }
   ],
   "source": [
    "print(s7.index[0])"
   ]
  },
  {
   "cell_type": "code",
   "execution_count": 28,
   "id": "acddf4ef",
   "metadata": {},
   "outputs": [
    {
     "name": "stdout",
     "output_type": "stream",
     "text": [
      "10\n"
     ]
    }
   ],
   "source": [
    "print(s7.values[0]) # positional index"
   ]
  },
  {
   "cell_type": "code",
   "execution_count": 29,
   "id": "039ab367",
   "metadata": {},
   "outputs": [
    {
     "ename": "KeyError",
     "evalue": "0",
     "output_type": "error",
     "traceback": [
      "\u001b[31m---------------------------------------------------------------------------\u001b[39m",
      "\u001b[31mKeyError\u001b[39m                                  Traceback (most recent call last)",
      "\u001b[36mFile \u001b[39m\u001b[32mc:\\Users\\phani\\OneDrive\\Desktop\\workspace\\ML_BookCamp\\Python\\venv\\Lib\\site-packages\\pandas\\core\\indexes\\base.py:3812\u001b[39m, in \u001b[36mIndex.get_loc\u001b[39m\u001b[34m(self, key)\u001b[39m\n\u001b[32m   3811\u001b[39m \u001b[38;5;28;01mtry\u001b[39;00m:\n\u001b[32m-> \u001b[39m\u001b[32m3812\u001b[39m     \u001b[38;5;28;01mreturn\u001b[39;00m \u001b[38;5;28;43mself\u001b[39;49m\u001b[43m.\u001b[49m\u001b[43m_engine\u001b[49m\u001b[43m.\u001b[49m\u001b[43mget_loc\u001b[49m\u001b[43m(\u001b[49m\u001b[43mcasted_key\u001b[49m\u001b[43m)\u001b[49m\n\u001b[32m   3813\u001b[39m \u001b[38;5;28;01mexcept\u001b[39;00m \u001b[38;5;167;01mKeyError\u001b[39;00m \u001b[38;5;28;01mas\u001b[39;00m err:\n",
      "\u001b[36mFile \u001b[39m\u001b[32mpandas/_libs/index.pyx:167\u001b[39m, in \u001b[36mpandas._libs.index.IndexEngine.get_loc\u001b[39m\u001b[34m()\u001b[39m\n",
      "\u001b[36mFile \u001b[39m\u001b[32mpandas/_libs/index.pyx:196\u001b[39m, in \u001b[36mpandas._libs.index.IndexEngine.get_loc\u001b[39m\u001b[34m()\u001b[39m\n",
      "\u001b[36mFile \u001b[39m\u001b[32mpandas/_libs/hashtable_class_helper.pxi:7088\u001b[39m, in \u001b[36mpandas._libs.hashtable.PyObjectHashTable.get_item\u001b[39m\u001b[34m()\u001b[39m\n",
      "\u001b[36mFile \u001b[39m\u001b[32mpandas/_libs/hashtable_class_helper.pxi:7096\u001b[39m, in \u001b[36mpandas._libs.hashtable.PyObjectHashTable.get_item\u001b[39m\u001b[34m()\u001b[39m\n",
      "\u001b[31mKeyError\u001b[39m: 0",
      "\nThe above exception was the direct cause of the following exception:\n",
      "\u001b[31mKeyError\u001b[39m                                  Traceback (most recent call last)",
      "\u001b[36mCell\u001b[39m\u001b[36m \u001b[39m\u001b[32mIn[29]\u001b[39m\u001b[32m, line 1\u001b[39m\n\u001b[32m----> \u001b[39m\u001b[32m1\u001b[39m \u001b[38;5;28mprint\u001b[39m(\u001b[43ms7\u001b[49m\u001b[43m.\u001b[49m\u001b[43mloc\u001b[49m\u001b[43m[\u001b[49m\u001b[32;43m0\u001b[39;49m\u001b[43m]\u001b[49m)\n",
      "\u001b[36mFile \u001b[39m\u001b[32mc:\\Users\\phani\\OneDrive\\Desktop\\workspace\\ML_BookCamp\\Python\\venv\\Lib\\site-packages\\pandas\\core\\indexing.py:1191\u001b[39m, in \u001b[36m_LocationIndexer.__getitem__\u001b[39m\u001b[34m(self, key)\u001b[39m\n\u001b[32m   1189\u001b[39m maybe_callable = com.apply_if_callable(key, \u001b[38;5;28mself\u001b[39m.obj)\n\u001b[32m   1190\u001b[39m maybe_callable = \u001b[38;5;28mself\u001b[39m._check_deprecated_callable_usage(key, maybe_callable)\n\u001b[32m-> \u001b[39m\u001b[32m1191\u001b[39m \u001b[38;5;28;01mreturn\u001b[39;00m \u001b[38;5;28;43mself\u001b[39;49m\u001b[43m.\u001b[49m\u001b[43m_getitem_axis\u001b[49m\u001b[43m(\u001b[49m\u001b[43mmaybe_callable\u001b[49m\u001b[43m,\u001b[49m\u001b[43m \u001b[49m\u001b[43maxis\u001b[49m\u001b[43m=\u001b[49m\u001b[43maxis\u001b[49m\u001b[43m)\u001b[49m\n",
      "\u001b[36mFile \u001b[39m\u001b[32mc:\\Users\\phani\\OneDrive\\Desktop\\workspace\\ML_BookCamp\\Python\\venv\\Lib\\site-packages\\pandas\\core\\indexing.py:1431\u001b[39m, in \u001b[36m_LocIndexer._getitem_axis\u001b[39m\u001b[34m(self, key, axis)\u001b[39m\n\u001b[32m   1429\u001b[39m \u001b[38;5;66;03m# fall thru to straight lookup\u001b[39;00m\n\u001b[32m   1430\u001b[39m \u001b[38;5;28mself\u001b[39m._validate_key(key, axis)\n\u001b[32m-> \u001b[39m\u001b[32m1431\u001b[39m \u001b[38;5;28;01mreturn\u001b[39;00m \u001b[38;5;28;43mself\u001b[39;49m\u001b[43m.\u001b[49m\u001b[43m_get_label\u001b[49m\u001b[43m(\u001b[49m\u001b[43mkey\u001b[49m\u001b[43m,\u001b[49m\u001b[43m \u001b[49m\u001b[43maxis\u001b[49m\u001b[43m=\u001b[49m\u001b[43maxis\u001b[49m\u001b[43m)\u001b[49m\n",
      "\u001b[36mFile \u001b[39m\u001b[32mc:\\Users\\phani\\OneDrive\\Desktop\\workspace\\ML_BookCamp\\Python\\venv\\Lib\\site-packages\\pandas\\core\\indexing.py:1381\u001b[39m, in \u001b[36m_LocIndexer._get_label\u001b[39m\u001b[34m(self, label, axis)\u001b[39m\n\u001b[32m   1379\u001b[39m \u001b[38;5;28;01mdef\u001b[39;00m\u001b[38;5;250m \u001b[39m\u001b[34m_get_label\u001b[39m(\u001b[38;5;28mself\u001b[39m, label, axis: AxisInt):\n\u001b[32m   1380\u001b[39m     \u001b[38;5;66;03m# GH#5567 this will fail if the label is not present in the axis.\u001b[39;00m\n\u001b[32m-> \u001b[39m\u001b[32m1381\u001b[39m     \u001b[38;5;28;01mreturn\u001b[39;00m \u001b[38;5;28;43mself\u001b[39;49m\u001b[43m.\u001b[49m\u001b[43mobj\u001b[49m\u001b[43m.\u001b[49m\u001b[43mxs\u001b[49m\u001b[43m(\u001b[49m\u001b[43mlabel\u001b[49m\u001b[43m,\u001b[49m\u001b[43m \u001b[49m\u001b[43maxis\u001b[49m\u001b[43m=\u001b[49m\u001b[43maxis\u001b[49m\u001b[43m)\u001b[49m\n",
      "\u001b[36mFile \u001b[39m\u001b[32mc:\\Users\\phani\\OneDrive\\Desktop\\workspace\\ML_BookCamp\\Python\\venv\\Lib\\site-packages\\pandas\\core\\generic.py:4320\u001b[39m, in \u001b[36mNDFrame.xs\u001b[39m\u001b[34m(self, key, axis, level, drop_level)\u001b[39m\n\u001b[32m   4318\u001b[39m             new_index = index[loc]\n\u001b[32m   4319\u001b[39m \u001b[38;5;28;01melse\u001b[39;00m:\n\u001b[32m-> \u001b[39m\u001b[32m4320\u001b[39m     loc = \u001b[43mindex\u001b[49m\u001b[43m.\u001b[49m\u001b[43mget_loc\u001b[49m\u001b[43m(\u001b[49m\u001b[43mkey\u001b[49m\u001b[43m)\u001b[49m\n\u001b[32m   4322\u001b[39m     \u001b[38;5;28;01mif\u001b[39;00m \u001b[38;5;28misinstance\u001b[39m(loc, np.ndarray):\n\u001b[32m   4323\u001b[39m         \u001b[38;5;28;01mif\u001b[39;00m loc.dtype == np.bool_:\n",
      "\u001b[36mFile \u001b[39m\u001b[32mc:\\Users\\phani\\OneDrive\\Desktop\\workspace\\ML_BookCamp\\Python\\venv\\Lib\\site-packages\\pandas\\core\\indexes\\base.py:3819\u001b[39m, in \u001b[36mIndex.get_loc\u001b[39m\u001b[34m(self, key)\u001b[39m\n\u001b[32m   3814\u001b[39m     \u001b[38;5;28;01mif\u001b[39;00m \u001b[38;5;28misinstance\u001b[39m(casted_key, \u001b[38;5;28mslice\u001b[39m) \u001b[38;5;129;01mor\u001b[39;00m (\n\u001b[32m   3815\u001b[39m         \u001b[38;5;28misinstance\u001b[39m(casted_key, abc.Iterable)\n\u001b[32m   3816\u001b[39m         \u001b[38;5;129;01mand\u001b[39;00m \u001b[38;5;28many\u001b[39m(\u001b[38;5;28misinstance\u001b[39m(x, \u001b[38;5;28mslice\u001b[39m) \u001b[38;5;28;01mfor\u001b[39;00m x \u001b[38;5;129;01min\u001b[39;00m casted_key)\n\u001b[32m   3817\u001b[39m     ):\n\u001b[32m   3818\u001b[39m         \u001b[38;5;28;01mraise\u001b[39;00m InvalidIndexError(key)\n\u001b[32m-> \u001b[39m\u001b[32m3819\u001b[39m     \u001b[38;5;28;01mraise\u001b[39;00m \u001b[38;5;167;01mKeyError\u001b[39;00m(key) \u001b[38;5;28;01mfrom\u001b[39;00m\u001b[38;5;250m \u001b[39m\u001b[34;01merr\u001b[39;00m\n\u001b[32m   3820\u001b[39m \u001b[38;5;28;01mexcept\u001b[39;00m \u001b[38;5;167;01mTypeError\u001b[39;00m:\n\u001b[32m   3821\u001b[39m     \u001b[38;5;66;03m# If we have a listlike key, _check_indexing_error will raise\u001b[39;00m\n\u001b[32m   3822\u001b[39m     \u001b[38;5;66;03m#  InvalidIndexError. Otherwise we fall through and re-raise\u001b[39;00m\n\u001b[32m   3823\u001b[39m     \u001b[38;5;66;03m#  the TypeError.\u001b[39;00m\n\u001b[32m   3824\u001b[39m     \u001b[38;5;28mself\u001b[39m._check_indexing_error(key)\n",
      "\u001b[31mKeyError\u001b[39m: 0"
     ]
    }
   ],
   "source": [
    "print(s7.loc[0])"
   ]
  },
  {
   "cell_type": "code",
   "execution_count": 36,
   "id": "4c6843e1",
   "metadata": {},
   "outputs": [
    {
     "name": "stdout",
     "output_type": "stream",
     "text": [
      "10\n"
     ]
    }
   ],
   "source": [
    "print(s7.loc['a']) # indexing\n"
   ]
  },
  {
   "cell_type": "code",
   "execution_count": 37,
   "id": "9b1f5487",
   "metadata": {},
   "outputs": [
    {
     "name": "stdout",
     "output_type": "stream",
     "text": [
      "10\n"
     ]
    },
    {
     "name": "stderr",
     "output_type": "stream",
     "text": [
      "C:\\Users\\phani\\AppData\\Local\\Temp\\ipykernel_2980\\2729629825.py:1: FutureWarning: Series.__getitem__ treating keys as positions is deprecated. In a future version, integer keys will always be treated as labels (consistent with DataFrame behavior). To access a value by position, use `ser.iloc[pos]`\n",
      "  print(s7[0])\n"
     ]
    }
   ],
   "source": [
    "print(s7[0])"
   ]
  },
  {
   "cell_type": "code",
   "execution_count": 39,
   "id": "69b95104",
   "metadata": {},
   "outputs": [
    {
     "name": "stdout",
     "output_type": "stream",
     "text": [
      "10\n"
     ]
    }
   ],
   "source": [
    "print(s7.iloc[0]) # positional indexing\n"
   ]
  },
  {
   "cell_type": "code",
   "execution_count": 41,
   "id": "e2c47760",
   "metadata": {},
   "outputs": [
    {
     "name": "stdout",
     "output_type": "stream",
     "text": [
      "a    10\n",
      "b    20\n",
      "Name: scores, dtype: int64\n"
     ]
    }
   ],
   "source": [
    "print(s7.loc[['a','b']]) # indexing\n"
   ]
  },
  {
   "cell_type": "code",
   "execution_count": 42,
   "id": "92aff962",
   "metadata": {},
   "outputs": [
    {
     "name": "stdout",
     "output_type": "stream",
     "text": [
      "a    10\n",
      "b    20\n",
      "Name: scores, dtype: int64\n"
     ]
    }
   ],
   "source": [
    "print(s7.iloc[[0,1]]) # positional indexing\n"
   ]
  },
  {
   "cell_type": "code",
   "execution_count": 49,
   "id": "4324a373",
   "metadata": {},
   "outputs": [
    {
     "name": "stdout",
     "output_type": "stream",
     "text": [
      "a    10\n",
      "b    20\n",
      "Name: scores, dtype: int64\n"
     ]
    }
   ],
   "source": [
    "print(s7.iloc[0:2]) # positional indexing\n",
    " # 2 is exclusinve\n"
   ]
  },
  {
   "cell_type": "code",
   "execution_count": 50,
   "id": "4f402a3f",
   "metadata": {},
   "outputs": [
    {
     "name": "stdout",
     "output_type": "stream",
     "text": [
      "a     10\n",
      "b     20\n",
      "c     30\n",
      "d     40\n",
      "0    100\n",
      "1    101\n",
      "2    400\n",
      "6    700\n",
      "Name: scores, dtype: int64\n"
     ]
    }
   ],
   "source": [
    "# cretae series from dict\n",
    "\n",
    "data = {'a':10, 'b':20,'c':30,'d':40,0:100,1:101,2:400,6:700}\n",
    "s9 = pd.Series(data,name='scores')\n",
    "print(s9)"
   ]
  },
  {
   "cell_type": "code",
   "execution_count": 51,
   "id": "0f11d859",
   "metadata": {},
   "outputs": [
    {
     "data": {
      "text/plain": [
       "0    100\n",
       "1    101\n",
       "2    400\n",
       "Name: scores, dtype: int64"
      ]
     },
     "execution_count": 51,
     "metadata": {},
     "output_type": "execute_result"
    }
   ],
   "source": [
    "s9.loc[0:2] # final value is inclusive"
   ]
  },
  {
   "cell_type": "code",
   "execution_count": 52,
   "id": "e56c2f6e",
   "metadata": {},
   "outputs": [],
   "source": [
    "# Slicing\n",
    "# - loc [start,end]  : end is inclusive\n",
    "# -iloc [start,end] : end is exclusive"
   ]
  },
  {
   "cell_type": "markdown",
   "id": "09187b31",
   "metadata": {},
   "source": [
    "# Data Frame"
   ]
  },
  {
   "cell_type": "code",
   "execution_count": 55,
   "id": "ab088af9",
   "metadata": {},
   "outputs": [],
   "source": [
    "data = {\n",
    "    'Name' : ['Ananth','Pushpak','Nikhil'],\n",
    "    'Age'  : [24,25,26],\n",
    "    'City' : ['Benguluru','Hyderabad','Delhi']\n",
    "}\n",
    "# total number of series here 3 name age and city"
   ]
  },
  {
   "cell_type": "code",
   "execution_count": 57,
   "id": "f1db6e6c",
   "metadata": {},
   "outputs": [
    {
     "name": "stdout",
     "output_type": "stream",
     "text": [
      "      Name  Age       City\n",
      "0   Ananth   24  Benguluru\n",
      "1  Pushpak   25  Hyderabad\n",
      "2   Nikhil   26      Delhi\n"
     ]
    }
   ],
   "source": [
    "df = pd.DataFrame(data)\n",
    "print(df)"
   ]
  },
  {
   "cell_type": "code",
   "execution_count": 64,
   "id": "7ddeeaaa",
   "metadata": {},
   "outputs": [],
   "source": [
    "data_dictionary = [\n",
    "    {'Name' : 'Ananth', 'Age'  : '24','City' : 'Benguluru'},\n",
    "    {'Name' : 'Pushpak', 'Age'  : '25','City' : 'Hyderabad'},\n",
    "    {'Name' : 'Nikhil', 'Age'  : '25','City' : 'Delhi'}\n",
    "     ]\n",
    "# total number of series here 3 name age and city"
   ]
  },
  {
   "cell_type": "code",
   "execution_count": 65,
   "id": "c6726a25",
   "metadata": {},
   "outputs": [
    {
     "name": "stdout",
     "output_type": "stream",
     "text": [
      "      Name Age       City\n",
      "0   Ananth  24  Benguluru\n",
      "1  Pushpak  25  Hyderabad\n",
      "2   Nikhil  25      Delhi\n"
     ]
    }
   ],
   "source": [
    "df1 = pd.DataFrame(data_dictionary)\n",
    "print(df1)"
   ]
  },
  {
   "cell_type": "code",
   "execution_count": 67,
   "id": "5d3fbdb5",
   "metadata": {},
   "outputs": [],
   "source": [
    "array_data = np.array([[1,2],[3,4],[5,6]]) # array data "
   ]
  },
  {
   "cell_type": "code",
   "execution_count": 68,
   "id": "7c705556",
   "metadata": {},
   "outputs": [
    {
     "name": "stdout",
     "output_type": "stream",
     "text": [
      "   0  1\n",
      "0  1  2\n",
      "1  3  4\n",
      "2  5  6\n"
     ]
    }
   ],
   "source": [
    "df2 = pd.DataFrame(array_data)\n",
    "print(df2)"
   ]
  },
  {
   "cell_type": "code",
   "execution_count": 69,
   "id": "987b4226",
   "metadata": {},
   "outputs": [
    {
     "name": "stdout",
     "output_type": "stream",
     "text": [
      "   A  B\n",
      "0  1  2\n",
      "1  3  4\n",
      "2  5  6\n"
     ]
    }
   ],
   "source": [
    "df_2 = pd.DataFrame(array_data, columns=['A','B'])\n",
    "print(df_2)"
   ]
  },
  {
   "cell_type": "markdown",
   "id": "f222814a",
   "metadata": {},
   "source": [
    "# Accessing the Vlaues"
   ]
  },
  {
   "cell_type": "code",
   "execution_count": 70,
   "id": "6cee7cdd",
   "metadata": {},
   "outputs": [],
   "source": [
    "data = {\n",
    "    'Name' : ['Ananth','Pushpak','Nikhil'],\n",
    "    'Age'  : [24,25,26],\n",
    "    'City' : ['Benguluru','Hyderabad','Delhi']\n",
    "}\n",
    "# total number of series here 3 name age and city"
   ]
  },
  {
   "cell_type": "code",
   "execution_count": 71,
   "id": "e68a58e9",
   "metadata": {},
   "outputs": [],
   "source": [
    "df4 = pd.DataFrame(data)"
   ]
  },
  {
   "cell_type": "code",
   "execution_count": 72,
   "id": "0a6b6c56",
   "metadata": {},
   "outputs": [
    {
     "name": "stdout",
     "output_type": "stream",
     "text": [
      "      Name  Age       City\n",
      "0   Ananth   24  Benguluru\n",
      "1  Pushpak   25  Hyderabad\n",
      "2   Nikhil   26      Delhi\n"
     ]
    }
   ],
   "source": [
    "print(df4)"
   ]
  },
  {
   "cell_type": "code",
   "execution_count": 82,
   "id": "4fbb8811",
   "metadata": {},
   "outputs": [
    {
     "name": "stdout",
     "output_type": "stream",
     "text": [
      "0     Ananth\n",
      "1    Pushpak\n",
      "2     Nikhil\n",
      "Name: Name, dtype: object\n",
      "========================================\n",
      "      Name  Age\n",
      "0   Ananth   24\n",
      "1  Pushpak   25\n",
      "2   Nikhil   26\n",
      "========================================\n",
      "Name       Ananth\n",
      "Age            24\n",
      "City    Benguluru\n",
      "Name: 0, dtype: object\n",
      "========================================\n",
      "      Name  Age       City\n",
      "0   Ananth   24  Benguluru\n",
      "1  Pushpak   25  Hyderabad\n",
      "========================================\n",
      "Name       Ananth\n",
      "Age            24\n",
      "City    Benguluru\n",
      "Name: 0, dtype: object\n",
      "========================================\n",
      "     Name  Age       City\n",
      "0  Ananth   24  Benguluru\n"
     ]
    }
   ],
   "source": [
    "print(df4['Name'])\n",
    "print(\"=\"*40)\n",
    "print(df4[['Name','Age']])\n",
    "print(\"=\"*40)\n",
    "print(df.loc[0])\n",
    "print(\"=\"*40)\n",
    "print(df.loc[0:1]) # inclusive\n",
    "print(\"=\"*40)\n",
    "print(df.iloc[0])\n",
    "print(\"=\"*40)\n",
    "print(df.iloc[0:1]) # exclusive\n"
   ]
  },
  {
   "cell_type": "code",
   "execution_count": null,
   "id": "d6bcdaff",
   "metadata": {},
   "outputs": [],
   "source": []
  }
 ],
 "metadata": {
  "kernelspec": {
   "display_name": "Python 3",
   "language": "python",
   "name": "python3"
  },
  "language_info": {
   "codemirror_mode": {
    "name": "ipython",
    "version": 3
   },
   "file_extension": ".py",
   "mimetype": "text/x-python",
   "name": "python",
   "nbconvert_exporter": "python",
   "pygments_lexer": "ipython3",
   "version": "3.12.0"
  }
 },
 "nbformat": 4,
 "nbformat_minor": 5
}
