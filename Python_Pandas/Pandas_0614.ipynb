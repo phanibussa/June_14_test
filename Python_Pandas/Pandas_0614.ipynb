{
 "cells": [
  {
   "cell_type": "markdown",
   "id": "0a5c47f5",
   "metadata": {},
   "source": [
    "# categoricl Data"
   ]
  },
  {
   "cell_type": "markdown",
   "id": "05487ed3",
   "metadata": {},
   "source": []
  }
 ],
 "metadata": {
  "language_info": {
   "name": "python"
  }
 },
 "nbformat": 4,
 "nbformat_minor": 5
}
