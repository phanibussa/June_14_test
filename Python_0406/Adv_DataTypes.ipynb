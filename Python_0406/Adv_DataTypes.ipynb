{
 "cells": [
  {
   "cell_type": "markdown",
   "id": "a42db127",
   "metadata": {},
   "source": [
    "#Advanced Data Types"
   ]
  },
  {
   "cell_type": "markdown",
   "id": "31160943",
   "metadata": {},
   "source": [
    "1) List"
   ]
  },
  {
   "cell_type": "code",
   "execution_count": 4,
   "id": "ce2bf4e8",
   "metadata": {},
   "outputs": [],
   "source": [
    "names = []"
   ]
  },
  {
   "cell_type": "code",
   "execution_count": 5,
   "id": "698130c5",
   "metadata": {},
   "outputs": [
    {
     "name": "stdout",
     "output_type": "stream",
     "text": [
      "[]\n"
     ]
    }
   ],
   "source": [
    "print(names)"
   ]
  },
  {
   "cell_type": "code",
   "execution_count": 7,
   "id": "2162dbcf",
   "metadata": {},
   "outputs": [],
   "source": [
    "names.append(\"Phani\")"
   ]
  },
  {
   "cell_type": "code",
   "execution_count": 8,
   "id": "5ae08ed6",
   "metadata": {},
   "outputs": [
    {
     "name": "stdout",
     "output_type": "stream",
     "text": [
      "['Phani']\n"
     ]
    }
   ],
   "source": [
    "print(names)"
   ]
  },
  {
   "cell_type": "code",
   "execution_count": 9,
   "id": "53e3aec6",
   "metadata": {},
   "outputs": [],
   "source": [
    "names.append(\"phani\")"
   ]
  },
  {
   "cell_type": "code",
   "execution_count": 10,
   "id": "b6fd3e2d",
   "metadata": {},
   "outputs": [
    {
     "name": "stdout",
     "output_type": "stream",
     "text": [
      "['Phani', 'phani']\n"
     ]
    }
   ],
   "source": [
    "print(names)"
   ]
  },
  {
   "cell_type": "code",
   "execution_count": 11,
   "id": "67cea13d",
   "metadata": {},
   "outputs": [
    {
     "name": "stdout",
     "output_type": "stream",
     "text": [
      "phani\n"
     ]
    }
   ],
   "source": [
    "print(names[1])"
   ]
  },
  {
   "cell_type": "code",
   "execution_count": null,
   "id": "997a824e",
   "metadata": {},
   "outputs": [],
   "source": []
  }
 ],
 "metadata": {
  "kernelspec": {
   "display_name": "Python 3",
   "language": "python",
   "name": "python3"
  },
  "language_info": {
   "codemirror_mode": {
    "name": "ipython",
    "version": 3
   },
   "file_extension": ".py",
   "mimetype": "text/x-python",
   "name": "python",
   "nbconvert_exporter": "python",
   "pygments_lexer": "ipython3",
   "version": "3.12.0"
  }
 },
 "nbformat": 4,
 "nbformat_minor": 5
}
