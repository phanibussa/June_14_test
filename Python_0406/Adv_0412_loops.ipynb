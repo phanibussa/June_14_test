{
 "cells": [
  {
   "cell_type": "code",
   "execution_count": null,
   "id": "90f7fcc0",
   "metadata": {},
   "outputs": [
    {
     "data": {
      "text/plain": [
       "str"
      ]
     },
     "execution_count": 6,
     "metadata": {},
     "output_type": "execute_result"
    }
   ],
   "source": [
    "a = input(\"Pelease enter the Details :\")\n",
    "type(a)\n",
    "list(a)"
   ]
  },
  {
   "cell_type": "code",
   "execution_count": 8,
   "id": "15e61297",
   "metadata": {},
   "outputs": [],
   "source": [
    "a=3"
   ]
  },
  {
   "cell_type": "code",
   "execution_count": 14,
   "id": "997c6664",
   "metadata": {},
   "outputs": [
    {
     "name": "stdout",
     "output_type": "stream",
     "text": [
      "0x7ffeee6e49f8\n"
     ]
    }
   ],
   "source": [
    "print(hex(id(a)))"
   ]
  },
  {
   "cell_type": "code",
   "execution_count": 18,
   "id": "f321cefb",
   "metadata": {},
   "outputs": [],
   "source": [
    "a=a+1"
   ]
  },
  {
   "cell_type": "code",
   "execution_count": 20,
   "id": "6abc85a6",
   "metadata": {},
   "outputs": [
    {
     "name": "stdout",
     "output_type": "stream",
     "text": [
      "0x7ffeee6e4a18\n"
     ]
    }
   ],
   "source": [
    "print(hex(id(a)))"
   ]
  },
  {
   "cell_type": "markdown",
   "id": "e7e9046d",
   "metadata": {},
   "source": [
    "#Disctonary"
   ]
  },
  {
   "cell_type": "code",
   "execution_count": 24,
   "id": "3ffda249",
   "metadata": {},
   "outputs": [],
   "source": [
    "emp_details  = {\n",
    "                1:[\"Phani\",32,\"Phani@gmail.com\"],\n",
    "                2:[\"Sow\",30,\"sow@gmail.co\"],\n",
    "                3:[\"abc\",30,\"abc@gmail.co\"]\n",
    "}"
   ]
  },
  {
   "cell_type": "code",
   "execution_count": 25,
   "id": "09ae63d8",
   "metadata": {},
   "outputs": [
    {
     "data": {
      "text/plain": [
       "{1: ['Phani', 32, 'Phani@gmail.com'],\n",
       " 2: ['Sow', 30, 'sow@gmail.co'],\n",
       " 3: ['abc', 30, 'abc@gmail.co']}"
      ]
     },
     "execution_count": 25,
     "metadata": {},
     "output_type": "execute_result"
    }
   ],
   "source": [
    "emp_details\n"
   ]
  },
  {
   "cell_type": "code",
   "execution_count": 26,
   "id": "b1e59447",
   "metadata": {},
   "outputs": [
    {
     "data": {
      "text/plain": [
       "['abc', 30, 'abc@gmail.co']"
      ]
     },
     "execution_count": 26,
     "metadata": {},
     "output_type": "execute_result"
    }
   ],
   "source": [
    "emp_details[3]"
   ]
  },
  {
   "cell_type": "code",
   "execution_count": 27,
   "id": "7988b337",
   "metadata": {},
   "outputs": [
    {
     "data": {
      "text/plain": [
       "'abc'"
      ]
     },
     "execution_count": 27,
     "metadata": {},
     "output_type": "execute_result"
    }
   ],
   "source": [
    "emp_details[3][0]"
   ]
  },
  {
   "cell_type": "code",
   "execution_count": 28,
   "id": "e80b17d6",
   "metadata": {},
   "outputs": [
    {
     "data": {
      "text/plain": [
       "'abc@gmail.co'"
      ]
     },
     "execution_count": 28,
     "metadata": {},
     "output_type": "execute_result"
    }
   ],
   "source": [
    "emp_details[3][2]"
   ]
  },
  {
   "cell_type": "code",
   "execution_count": null,
   "id": "046b61bb",
   "metadata": {},
   "outputs": [],
   "source": []
  }
 ],
 "metadata": {
  "kernelspec": {
   "display_name": "Python 3",
   "language": "python",
   "name": "python3"
  },
  "language_info": {
   "codemirror_mode": {
    "name": "ipython",
    "version": 3
   },
   "file_extension": ".py",
   "mimetype": "text/x-python",
   "name": "python",
   "nbconvert_exporter": "python",
   "pygments_lexer": "ipython3",
   "version": "3.12.0"
  }
 },
 "nbformat": 4,
 "nbformat_minor": 5
}
