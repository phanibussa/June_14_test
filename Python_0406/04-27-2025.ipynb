{
 "cells": [
  {
   "cell_type": "markdown",
   "id": "e141a3e9",
   "metadata": {},
   "source": [
    "#Oops\n"
   ]
  },
  {
   "cell_type": "code",
   "execution_count": null,
   "id": "362d8de0",
   "metadata": {},
   "outputs": [],
   "source": [
    "#car\n",
    "# customer name \n",
    "# Brand\n",
    "# Color\n",
    "# Type \n",
    "class Car():\n",
    "    def customer_name(a):\n",
    "        pass\n",
    "    def brand(a):\n",
    "        pass\n",
    "    def color(a):\n",
    "        pass"
   ]
  },
  {
   "cell_type": "code",
   "execution_count": null,
   "id": "8467fc79",
   "metadata": {},
   "outputs": [],
   "source": []
  }
 ],
 "metadata": {
  "kernelspec": {
   "display_name": "Python 3",
   "language": "python",
   "name": "python3"
  },
  "language_info": {
   "name": "python",
   "version": "3.12.0"
  }
 },
 "nbformat": 4,
 "nbformat_minor": 5
}
