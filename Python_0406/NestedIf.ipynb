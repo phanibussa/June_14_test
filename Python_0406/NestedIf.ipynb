{
 "cells": [
  {
   "cell_type": "markdown",
   "id": "f70726cc",
   "metadata": {},
   "source": [
    "Nested If-else condition"
   ]
  },
  {
   "cell_type": "code",
   "execution_count": null,
   "id": "1230c7a1",
   "metadata": {},
   "outputs": [],
   "source": [
    "answer1 = input(\"please enter item :\")\n",
    "answer2 = input(\"please enter Fruits : \")\n",
    "\n",
    "if answer1 == \"fruit\":\n",
    "    if answer2 == \"apple\":\n",
    "        print(\"Task Completed\")\n",
    "    else:\n",
    "        print(\"Task not Completed\")\n"
   ]
  },
  {
   "cell_type": "code",
   "execution_count": null,
   "id": "3329e0a3",
   "metadata": {},
   "outputs": [],
   "source": [
    "# Assignement"
   ]
  },
  {
   "cell_type": "code",
   "execution_count": 4,
   "id": "f160ea31",
   "metadata": {},
   "outputs": [
    {
     "name": "stdout",
     "output_type": "stream",
     "text": [
      "Go to Ice Cream Palor\n"
     ]
    }
   ],
   "source": [
    "money = int(input(\"please enter the current balance : \"))\n",
    "Time  = int(input(\"please enter Time in 24 hrs format: \"))\n",
    "if money > 200:\n",
    "    if Time < 7:\n",
    "        print(\"Go to Theme Park\")\n",
    "    else:\n",
    "        print(\"GO HOME\")    \n",
    "else:\n",
    "    if Time > 7:\n",
    "        print(\"Go to Ice Cream Palor\")\n",
    "    else:\n",
    "        print(\"GO to Beach\")     \n",
    "        \n",
    "\n",
    "        \n",
    "        "
   ]
  },
  {
   "cell_type": "code",
   "execution_count": null,
   "id": "9c4a93a6",
   "metadata": {},
   "outputs": [],
   "source": []
  }
 ],
 "metadata": {
  "kernelspec": {
   "display_name": "Python 3",
   "language": "python",
   "name": "python3"
  },
  "language_info": {
   "codemirror_mode": {
    "name": "ipython",
    "version": 3
   },
   "file_extension": ".py",
   "mimetype": "text/x-python",
   "name": "python",
   "nbconvert_exporter": "python",
   "pygments_lexer": "ipython3",
   "version": "3.12.0"
  }
 },
 "nbformat": 4,
 "nbformat_minor": 5
}
