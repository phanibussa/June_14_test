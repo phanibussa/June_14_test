{
 "cells": [
  {
   "cell_type": "code",
   "execution_count": 1,
   "id": "4b7e494c",
   "metadata": {},
   "outputs": [
    {
     "data": {
      "text/plain": [
       "int"
      ]
     },
     "execution_count": 1,
     "metadata": {},
     "output_type": "execute_result"
    }
   ],
   "source": [
    "type(1)"
   ]
  },
  {
   "cell_type": "code",
   "execution_count": 2,
   "id": "6e9684c5",
   "metadata": {},
   "outputs": [],
   "source": [
    "class Person:\n",
    "    def __init__(self,name):\n",
    "        self.name= name\n",
    "    def print_var(self):\n",
    "        print(self.name)\n",
    "            "
   ]
  },
  {
   "cell_type": "code",
   "execution_count": 3,
   "id": "543ee247",
   "metadata": {},
   "outputs": [],
   "source": [
    "p_init = Person(\"Phani\")"
   ]
  },
  {
   "cell_type": "code",
   "execution_count": 4,
   "id": "a1f6c8f6",
   "metadata": {},
   "outputs": [
    {
     "name": "stdout",
     "output_type": "stream",
     "text": [
      "Phani\n"
     ]
    }
   ],
   "source": [
    "p_init.print_var()"
   ]
  },
  {
   "cell_type": "code",
   "execution_count": 5,
   "id": "bc67bf49",
   "metadata": {},
   "outputs": [],
   "source": [
    "class Person:\n",
    "    def __init__(self,name):\n",
    "        self.name= name\n",
    "    def __str__(self):\n",
    "        return f\"Person object has these values {self.name}\"\n",
    "            "
   ]
  },
  {
   "cell_type": "code",
   "execution_count": 6,
   "id": "ea05c410",
   "metadata": {},
   "outputs": [],
   "source": [
    "p_str = Person(\"Phani\")"
   ]
  },
  {
   "cell_type": "code",
   "execution_count": 7,
   "id": "fe5f6f81",
   "metadata": {},
   "outputs": [
    {
     "name": "stdout",
     "output_type": "stream",
     "text": [
      "Person object has these values Phani\n"
     ]
    }
   ],
   "source": [
    "print(p_str)"
   ]
  },
  {
   "cell_type": "code",
   "execution_count": 1,
   "id": "b6660d82",
   "metadata": {},
   "outputs": [],
   "source": [
    "class Abcd:\n",
    "    def __init__(self):\n",
    "       self.name = name\n",
    "       "
   ]
  },
  {
   "cell_type": "code",
   "execution_count": 53,
   "id": "13e42798",
   "metadata": {},
   "outputs": [],
   "source": [
    "class NewAdd:\n",
    "    def __init__(self,x,y):\n",
    "        self.x =x\n",
    "        self.y = y\n",
    "    def __rep__(self):\n",
    "        return f\"NewAdd ({self.x},{self.y})\"    \n",
    "    def __add__(self,other):\n",
    "        return (self.x+other.x, self.y+other.y)\n",
    "        "
   ]
  },
  {
   "cell_type": "code",
   "execution_count": 54,
   "id": "a5e3f188",
   "metadata": {},
   "outputs": [],
   "source": [
    "p_add1 = NewAdd(100,200)\n",
    "p_add2 = NewAdd(100,200)\n",
    "p_add3 = NewAdd(1,2)"
   ]
  },
  {
   "cell_type": "code",
   "execution_count": 56,
   "id": "08f65427",
   "metadata": {},
   "outputs": [
    {
     "ename": "TypeError",
     "evalue": "can only concatenate tuple (not \"NewAdd\") to tuple",
     "output_type": "error",
     "traceback": [
      "\u001b[31m---------------------------------------------------------------------------\u001b[39m",
      "\u001b[31mTypeError\u001b[39m                                 Traceback (most recent call last)",
      "\u001b[36mCell\u001b[39m\u001b[36m \u001b[39m\u001b[32mIn[56]\u001b[39m\u001b[32m, line 1\u001b[39m\n\u001b[32m----> \u001b[39m\u001b[32m1\u001b[39m \u001b[43mp_add1\u001b[49m\u001b[43m+\u001b[49m\u001b[43mp_add2\u001b[49m\u001b[43m+\u001b[49m\u001b[43mp_add3\u001b[49m\n",
      "\u001b[31mTypeError\u001b[39m: can only concatenate tuple (not \"NewAdd\") to tuple"
     ]
    }
   ],
   "source": [
    "p_add1+p_add2+p_add3"
   ]
  },
  {
   "cell_type": "code",
   "execution_count": 20,
   "id": "0e32ab8f",
   "metadata": {},
   "outputs": [
    {
     "data": {
      "text/plain": [
       "__main__.NewAdd"
      ]
     },
     "execution_count": 20,
     "metadata": {},
     "output_type": "execute_result"
    }
   ],
   "source": [
    "type(p_add2)"
   ]
  },
  {
   "cell_type": "markdown",
   "id": "d5c684b7",
   "metadata": {},
   "source": [
    "#Getter and Setter Methods"
   ]
  },
  {
   "cell_type": "code",
   "execution_count": 30,
   "id": "b169e4e7",
   "metadata": {},
   "outputs": [],
   "source": [
    "class Person:\n",
    "    def __init__(self,name):\n",
    "        self.__name = name # Private attribute\n",
    "    def __str__(self):\n",
    "        return f\"Person name is {self.__name}\"     \n",
    "    def get_name(self):\n",
    "        return self.__name\n",
    "    def set_name(self,new_name):\n",
    "        if not new_name:\n",
    "            raise ValueError(\"Name Can not be Empty\")\n",
    "        self.__name = new_name\n",
    "    def delete_name(self):\n",
    "        del self.__name \n",
    "      "
   ]
  },
  {
   "cell_type": "code",
   "execution_count": 31,
   "id": "a7f17ec3",
   "metadata": {},
   "outputs": [],
   "source": [
    "name = Person(\"Phani\")"
   ]
  },
  {
   "cell_type": "code",
   "execution_count": 32,
   "id": "5f1323b6",
   "metadata": {},
   "outputs": [
    {
     "name": "stdout",
     "output_type": "stream",
     "text": [
      "Person name is Phani\n"
     ]
    }
   ],
   "source": [
    "print(name)"
   ]
  },
  {
   "cell_type": "code",
   "execution_count": 33,
   "id": "23d94527",
   "metadata": {},
   "outputs": [],
   "source": [
    "name.set_name(\"Bussa\")"
   ]
  },
  {
   "cell_type": "code",
   "execution_count": 34,
   "id": "6b322582",
   "metadata": {},
   "outputs": [
    {
     "data": {
      "text/plain": [
       "'Bussa'"
      ]
     },
     "execution_count": 34,
     "metadata": {},
     "output_type": "execute_result"
    }
   ],
   "source": [
    "name.get_name()"
   ]
  },
  {
   "cell_type": "code",
   "execution_count": 35,
   "id": "58827c51",
   "metadata": {},
   "outputs": [],
   "source": [
    "name.delete_name()"
   ]
  },
  {
   "cell_type": "code",
   "execution_count": 36,
   "id": "401447d1",
   "metadata": {},
   "outputs": [
    {
     "ename": "AttributeError",
     "evalue": "'Person' object has no attribute '_Person__name'",
     "output_type": "error",
     "traceback": [
      "\u001b[31m---------------------------------------------------------------------------\u001b[39m",
      "\u001b[31mAttributeError\u001b[39m                            Traceback (most recent call last)",
      "\u001b[36mCell\u001b[39m\u001b[36m \u001b[39m\u001b[32mIn[36]\u001b[39m\u001b[32m, line 1\u001b[39m\n\u001b[32m----> \u001b[39m\u001b[32m1\u001b[39m \u001b[43mname\u001b[49m\u001b[43m.\u001b[49m\u001b[43mget_name\u001b[49m\u001b[43m(\u001b[49m\u001b[43m)\u001b[49m\n",
      "\u001b[36mCell\u001b[39m\u001b[36m \u001b[39m\u001b[32mIn[30]\u001b[39m\u001b[32m, line 7\u001b[39m, in \u001b[36mPerson.get_name\u001b[39m\u001b[34m(self)\u001b[39m\n\u001b[32m      6\u001b[39m \u001b[38;5;28;01mdef\u001b[39;00m\u001b[38;5;250m \u001b[39m\u001b[34mget_name\u001b[39m(\u001b[38;5;28mself\u001b[39m):\n\u001b[32m----> \u001b[39m\u001b[32m7\u001b[39m     \u001b[38;5;28;01mreturn\u001b[39;00m \u001b[38;5;28;43mself\u001b[39;49m\u001b[43m.\u001b[49m\u001b[43m__name\u001b[49m\n",
      "\u001b[31mAttributeError\u001b[39m: 'Person' object has no attribute '_Person__name'"
     ]
    }
   ],
   "source": [
    "name.get_name()"
   ]
  },
  {
   "cell_type": "code",
   "execution_count": 37,
   "id": "7b9e0d79",
   "metadata": {},
   "outputs": [],
   "source": [
    "name.set_name(\"Bussa1\")"
   ]
  },
  {
   "cell_type": "code",
   "execution_count": 38,
   "id": "fbc8033d",
   "metadata": {},
   "outputs": [
    {
     "data": {
      "text/plain": [
       "'Bussa1'"
      ]
     },
     "execution_count": 38,
     "metadata": {},
     "output_type": "execute_result"
    }
   ],
   "source": [
    "name.get_name()"
   ]
  },
  {
   "cell_type": "code",
   "execution_count": 39,
   "id": "0e09f65d",
   "metadata": {},
   "outputs": [
    {
     "ename": "ValueError",
     "evalue": "Name Can not be Empty",
     "output_type": "error",
     "traceback": [
      "\u001b[31m---------------------------------------------------------------------------\u001b[39m",
      "\u001b[31mValueError\u001b[39m                                Traceback (most recent call last)",
      "\u001b[36mCell\u001b[39m\u001b[36m \u001b[39m\u001b[32mIn[39]\u001b[39m\u001b[32m, line 1\u001b[39m\n\u001b[32m----> \u001b[39m\u001b[32m1\u001b[39m \u001b[43mname\u001b[49m\u001b[43m.\u001b[49m\u001b[43mset_name\u001b[49m\u001b[43m(\u001b[49m\u001b[33;43m\"\u001b[39;49m\u001b[33;43m\"\u001b[39;49m\u001b[43m)\u001b[49m\n",
      "\u001b[36mCell\u001b[39m\u001b[36m \u001b[39m\u001b[32mIn[30]\u001b[39m\u001b[32m, line 10\u001b[39m, in \u001b[36mPerson.set_name\u001b[39m\u001b[34m(self, new_name)\u001b[39m\n\u001b[32m      8\u001b[39m \u001b[38;5;28;01mdef\u001b[39;00m\u001b[38;5;250m \u001b[39m\u001b[34mset_name\u001b[39m(\u001b[38;5;28mself\u001b[39m,new_name):\n\u001b[32m      9\u001b[39m     \u001b[38;5;28;01mif\u001b[39;00m \u001b[38;5;129;01mnot\u001b[39;00m new_name:\n\u001b[32m---> \u001b[39m\u001b[32m10\u001b[39m         \u001b[38;5;28;01mraise\u001b[39;00m \u001b[38;5;167;01mValueError\u001b[39;00m(\u001b[33m\"\u001b[39m\u001b[33mName Can not be Empty\u001b[39m\u001b[33m\"\u001b[39m)\n\u001b[32m     11\u001b[39m     \u001b[38;5;28mself\u001b[39m.__name = new_name\n",
      "\u001b[31mValueError\u001b[39m: Name Can not be Empty"
     ]
    }
   ],
   "source": [
    "name.set_name(\"\")"
   ]
  },
  {
   "cell_type": "code",
   "execution_count": 40,
   "id": "7f540211",
   "metadata": {},
   "outputs": [
    {
     "data": {
      "text/plain": [
       "['__class__',\n",
       " '__delattr__',\n",
       " '__dict__',\n",
       " '__dir__',\n",
       " '__doc__',\n",
       " '__eq__',\n",
       " '__format__',\n",
       " '__ge__',\n",
       " '__getattribute__',\n",
       " '__getstate__',\n",
       " '__gt__',\n",
       " '__hash__',\n",
       " '__init__',\n",
       " '__init_subclass__',\n",
       " '__le__',\n",
       " '__lt__',\n",
       " '__module__',\n",
       " '__ne__',\n",
       " '__new__',\n",
       " '__reduce__',\n",
       " '__reduce_ex__',\n",
       " '__repr__',\n",
       " '__setattr__',\n",
       " '__sizeof__',\n",
       " '__str__',\n",
       " '__subclasshook__',\n",
       " '__weakref__',\n",
       " 'delete_name',\n",
       " 'get_name',\n",
       " 'set_name']"
      ]
     },
     "execution_count": 40,
     "metadata": {},
     "output_type": "execute_result"
    }
   ],
   "source": [
    "dir(Person)"
   ]
  },
  {
   "cell_type": "markdown",
   "id": "8ea97a7e",
   "metadata": {},
   "source": [
    "#Property Decorators"
   ]
  },
  {
   "cell_type": "code",
   "execution_count": 42,
   "id": "52786cab",
   "metadata": {},
   "outputs": [],
   "source": [
    "class Person:\n",
    "    def __init__(self,name):\n",
    "        self.__name = name # Private attribute\n",
    "    def __str__(self):\n",
    "        return f\"Person name is {self.__name}\"    \n",
    "    @property  \n",
    "    def name(self):\n",
    "        return self.__name\n",
    "    @name.setter\n",
    "    def name(self,new_name):\n",
    "        if not new_name:\n",
    "            raise ValueError(\"Name Can not be Empty\")\n",
    "        self.__name = new_name\n",
    "    @name.deleter    \n",
    "    def name(self):\n",
    "        del self.__name \n",
    "      "
   ]
  },
  {
   "cell_type": "code",
   "execution_count": 44,
   "id": "b8abd6ca",
   "metadata": {},
   "outputs": [],
   "source": [
    "p_prop = Person(\"Phani\")"
   ]
  },
  {
   "cell_type": "code",
   "execution_count": 45,
   "id": "effde537",
   "metadata": {},
   "outputs": [
    {
     "data": {
      "text/plain": [
       "'Phani'"
      ]
     },
     "execution_count": 45,
     "metadata": {},
     "output_type": "execute_result"
    }
   ],
   "source": [
    "p_prop.name"
   ]
  },
  {
   "cell_type": "code",
   "execution_count": 47,
   "id": "5a772840",
   "metadata": {},
   "outputs": [],
   "source": [
    "p_prop.name = \"Bussa\""
   ]
  },
  {
   "cell_type": "code",
   "execution_count": null,
   "id": "ca22ed21",
   "metadata": {},
   "outputs": [
    {
     "data": {
      "text/plain": [
       "'Bussa'"
      ]
     },
     "execution_count": 50,
     "metadata": {},
     "output_type": "execute_result"
    }
   ],
   "source": [
    "p_prop.name"
   ]
  },
  {
   "cell_type": "code",
   "execution_count": 51,
   "id": "e7a3451c",
   "metadata": {},
   "outputs": [],
   "source": [
    "del p_prop.name"
   ]
  },
  {
   "cell_type": "code",
   "execution_count": 52,
   "id": "497a0988",
   "metadata": {},
   "outputs": [
    {
     "ename": "AttributeError",
     "evalue": "'Person' object has no attribute '_Person__name'",
     "output_type": "error",
     "traceback": [
      "\u001b[31m---------------------------------------------------------------------------\u001b[39m",
      "\u001b[31mAttributeError\u001b[39m                            Traceback (most recent call last)",
      "\u001b[36mCell\u001b[39m\u001b[36m \u001b[39m\u001b[32mIn[52]\u001b[39m\u001b[32m, line 1\u001b[39m\n\u001b[32m----> \u001b[39m\u001b[32m1\u001b[39m \u001b[43mp_prop\u001b[49m\u001b[43m.\u001b[49m\u001b[43mname\u001b[49m\n",
      "\u001b[36mCell\u001b[39m\u001b[36m \u001b[39m\u001b[32mIn[42]\u001b[39m\u001b[32m, line 8\u001b[39m, in \u001b[36mPerson.name\u001b[39m\u001b[34m(self)\u001b[39m\n\u001b[32m      6\u001b[39m \u001b[38;5;129m@property\u001b[39m  \n\u001b[32m      7\u001b[39m \u001b[38;5;28;01mdef\u001b[39;00m\u001b[38;5;250m \u001b[39m\u001b[34mname\u001b[39m(\u001b[38;5;28mself\u001b[39m):\n\u001b[32m----> \u001b[39m\u001b[32m8\u001b[39m     \u001b[38;5;28;01mreturn\u001b[39;00m \u001b[38;5;28;43mself\u001b[39;49m\u001b[43m.\u001b[49m\u001b[43m__name\u001b[49m\n",
      "\u001b[31mAttributeError\u001b[39m: 'Person' object has no attribute '_Person__name'"
     ]
    }
   ],
   "source": [
    "p_prop.name"
   ]
  },
  {
   "cell_type": "code",
   "execution_count": null,
   "id": "00c1c036",
   "metadata": {},
   "outputs": [],
   "source": []
  }
 ],
 "metadata": {
  "kernelspec": {
   "display_name": "Python 3",
   "language": "python",
   "name": "python3"
  },
  "language_info": {
   "codemirror_mode": {
    "name": "ipython",
    "version": 3
   },
   "file_extension": ".py",
   "mimetype": "text/x-python",
   "name": "python",
   "nbconvert_exporter": "python",
   "pygments_lexer": "ipython3",
   "version": "3.12.0"
  }
 },
 "nbformat": 4,
 "nbformat_minor": 5
}
