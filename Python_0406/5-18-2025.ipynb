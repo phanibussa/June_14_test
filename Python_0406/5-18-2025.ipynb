{
 "cells": [
  {
   "cell_type": "code",
   "execution_count": 3,
   "id": "4b59f870",
   "metadata": {},
   "outputs": [],
   "source": [
    "import requests\n",
    "import time\n",
    "import threading\n"
   ]
  },
  {
   "cell_type": "code",
   "execution_count": 4,
   "id": "6ac74d22",
   "metadata": {},
   "outputs": [],
   "source": [
    "urls = [\n",
    "    \"https://raw.githubusercontent.com/mahavird/Person-Detector-Dataset/refs/heads/master/images/FudanPed00006.png\",\n",
    "    \"https://raw.githubusercontent.com/Monalsingh/VideoBroadcaster/refs/heads/main/static/default-office-animated.png\",\n",
    "    \"https://raw.githubusercontent.com/A2Amir/Counting-Trees-using-Satellite-Images/refs/heads/main/imgs/5.png\"\n",
    "]\n"
   ]
  },
  {
   "cell_type": "code",
   "execution_count": 5,
   "id": "854b27a1",
   "metadata": {},
   "outputs": [],
   "source": [
    "def download_file(process_name, url, file_path):\n",
    "    try:\n",
    "        print(f\"Download process name started : {process_name}\")\n",
    "        response = requests.get(url)\n",
    "        with open(file_path, \"wb\") as file:\n",
    "            for chunk in response.iter_content(chunk_size=8192):\n",
    "                if chunk:\n",
    "                    file.write(chunk)\n",
    "        print(\"File downloaded successfully\")\n",
    "    except Exception as e :\n",
    "        print(f\"Error downloading file : {e}\")\n",
    "    print(f\"Process name completed : {process_name}\")\n",
    "\n"
   ]
  },
  {
   "cell_type": "code",
   "execution_count": 7,
   "id": "20b64690",
   "metadata": {},
   "outputs": [],
   "source": [
    "t2 = threading.Thread(target=download_file, args=(\"Download with thread 2\", urls[1], \"b1.png\"))\n"
   ]
  },
  {
   "cell_type": "code",
   "execution_count": 8,
   "id": "d67cf5d9",
   "metadata": {},
   "outputs": [
    {
     "name": "stdout",
     "output_type": "stream",
     "text": [
      "Download process name started : Download with thread 2\n"
     ]
    },
    {
     "name": "stdout",
     "output_type": "stream",
     "text": [
      "File downloaded successfully\n",
      "Process name completed : Download with thread 2\n"
     ]
    }
   ],
   "source": [
    "t2.start()"
   ]
  },
  {
   "cell_type": "code",
   "execution_count": null,
   "id": "53cde467",
   "metadata": {},
   "outputs": [],
   "source": [
    "\n",
    "def watch_file(thread_id,file_path,event_signal):\n",
    "    print(f\"wtaching {file_path}\")\n",
    "    while not event_signal.is_set():\n",
    "        print(\"watching file ....\")\n",
    "        time.sleep(2)\n",
    "    print(f\"watch thread id {thread_id} existing cleanely ...\")    \n",
    "    "
   ]
  },
  {
   "cell_type": "code",
   "execution_count": null,
   "id": "8cf23b20",
   "metadata": {},
   "outputs": [],
   "source": [
    "t1_wd = threading.Thread(target=watch_file, args=(1,\"a.txt\",))\n",
    "t2_wd = threading.Thread(target=watch_file, args=(2,\"b.txt\",))\n",
    "t3_wd = threading.Thread(target=watch_file, args=(3,\"c.txt\",))\n"
   ]
  }
 ],
 "metadata": {
  "kernelspec": {
   "display_name": "Python 3",
   "language": "python",
   "name": "python3"
  },
  "language_info": {
   "codemirror_mode": {
    "name": "ipython",
    "version": 3
   },
   "file_extension": ".py",
   "mimetype": "text/x-python",
   "name": "python",
   "nbconvert_exporter": "python",
   "pygments_lexer": "ipython3",
   "version": "3.12.0"
  }
 },
 "nbformat": 4,
 "nbformat_minor": 5
}
