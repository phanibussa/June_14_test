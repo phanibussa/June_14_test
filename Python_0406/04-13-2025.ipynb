{
 "cells": [
  {
   "cell_type": "markdown",
   "id": "57021fa1",
   "metadata": {},
   "source": [
    "#Loops"
   ]
  },
  {
   "cell_type": "code",
   "execution_count": 1,
   "id": "a2e05c5c",
   "metadata": {},
   "outputs": [],
   "source": [
    "#example\n",
    "\n",
    "fruits_list  = [\"Apple\",\"Mangoe\",\"banana\"]"
   ]
  },
  {
   "cell_type": "code",
   "execution_count": 2,
   "id": "e204bebb",
   "metadata": {},
   "outputs": [
    {
     "name": "stdout",
     "output_type": "stream",
     "text": [
      "Start List :\n",
      "Apple\n",
      "Mangoe\n",
      "banana\n",
      "End List :\n"
     ]
    }
   ],
   "source": [
    "\n",
    "print(\"Start List :\")\n",
    "for i in fruits_list:\n",
    "    print(i)\n",
    "print(\"End List :\")    "
   ]
  },
  {
   "cell_type": "code",
   "execution_count": 4,
   "id": "935b6d61",
   "metadata": {},
   "outputs": [
    {
     "name": "stdout",
     "output_type": "stream",
     "text": [
      "1\n",
      "2\n",
      "3\n",
      "4\n",
      "5\n",
      "6\n",
      "7\n",
      "8\n",
      "9\n",
      "10\n",
      "11\n",
      "12\n",
      "13\n",
      "14\n"
     ]
    }
   ],
   "source": [
    "#Range\n",
    "for i in range(1,15,1):\n",
    "    print(i)"
   ]
  },
  {
   "cell_type": "code",
   "execution_count": 5,
   "id": "a53aa134",
   "metadata": {},
   "outputs": [
    {
     "name": "stdout",
     "output_type": "stream",
     "text": [
      "1\n",
      "3\n",
      "5\n",
      "7\n",
      "9\n",
      "11\n",
      "13\n"
     ]
    }
   ],
   "source": [
    "for i in range(1,15,2):\n",
    "    print(i)"
   ]
  },
  {
   "cell_type": "code",
   "execution_count": 6,
   "id": "96772049",
   "metadata": {},
   "outputs": [
    {
     "name": "stdout",
     "output_type": "stream",
     "text": [
      "0\n",
      "1\n",
      "2\n",
      "3\n",
      "4\n",
      "5\n",
      "6\n",
      "7\n",
      "8\n",
      "9\n"
     ]
    }
   ],
   "source": [
    "for i in range(10):\n",
    "    print(i)"
   ]
  },
  {
   "cell_type": "markdown",
   "id": "9cd26653",
   "metadata": {},
   "source": [
    "# Dictonary with for loop\n"
   ]
  },
  {
   "cell_type": "code",
   "execution_count": 8,
   "id": "b059aecf",
   "metadata": {},
   "outputs": [],
   "source": [
    "emp_deatils = {1:[\"phani\",32],\n",
    "               2:[\"Sowmya\",30],\n",
    "               3:[\"Sharvi\",12],\n",
    "               4:[\"Adharv\",4]}"
   ]
  },
  {
   "cell_type": "code",
   "execution_count": 13,
   "id": "0e116cc0",
   "metadata": {},
   "outputs": [
    {
     "name": "stdout",
     "output_type": "stream",
     "text": [
      "dict_keys([1, 2, 3, 4])\n"
     ]
    }
   ],
   "source": [
    "print(emp_deatils.keys())"
   ]
  },
  {
   "cell_type": "code",
   "execution_count": 14,
   "id": "77a54632",
   "metadata": {},
   "outputs": [
    {
     "name": "stdout",
     "output_type": "stream",
     "text": [
      "['phani', 32]\n",
      "['Sowmya', 30]\n",
      "['Sharvi', 12]\n",
      "['Adharv', 4]\n"
     ]
    }
   ],
   "source": [
    "for value in emp_deatils.keys():\n",
    "    print(emp_deatils[value])"
   ]
  },
  {
   "cell_type": "markdown",
   "id": "c5f79313",
   "metadata": {},
   "source": [
    "#Print Statement"
   ]
  },
  {
   "cell_type": "code",
   "execution_count": 16,
   "id": "cd3c01b7",
   "metadata": {},
   "outputs": [
    {
     "name": "stdout",
     "output_type": "stream",
     "text": [
      "Hello\n"
     ]
    }
   ],
   "source": [
    "print(\"Hello\")"
   ]
  },
  {
   "cell_type": "code",
   "execution_count": 17,
   "id": "6a7c97dd",
   "metadata": {},
   "outputs": [
    {
     "name": "stdout",
     "output_type": "stream",
     "text": [
      "hello hi 1 2hello\n",
      "hi\n"
     ]
    }
   ],
   "source": [
    "print(\"hello\",\"hi\",1,2,end=\"\")\n",
    "print(\"hello\")\n",
    "print(\"hi\")"
   ]
  },
  {
   "cell_type": "code",
   "execution_count": 18,
   "id": "f77f3cf0",
   "metadata": {},
   "outputs": [
    {
     "name": "stdout",
     "output_type": "stream",
     "text": [
      "hhhhhhhhhhhhhhhhhhhh\n"
     ]
    }
   ],
   "source": [
    "print(\"h\"*20)"
   ]
  },
  {
   "cell_type": "code",
   "execution_count": 20,
   "id": "9ffe9057",
   "metadata": {},
   "outputs": [
    {
     "name": "stdout",
     "output_type": "stream",
     "text": [
      "*****\n"
     ]
    }
   ],
   "source": [
    "print(\"*\"*5)"
   ]
  },
  {
   "cell_type": "code",
   "execution_count": 22,
   "id": "5cc028b5",
   "metadata": {},
   "outputs": [
    {
     "name": "stdout",
     "output_type": "stream",
     "text": [
      "*\n",
      "*\n",
      "*\n",
      "*\n",
      "*\n"
     ]
    }
   ],
   "source": [
    "for i in range(1,6):\n",
    "    print(\"*\")"
   ]
  },
  {
   "cell_type": "code",
   "execution_count": 23,
   "id": "03a3b7b2",
   "metadata": {},
   "outputs": [
    {
     "name": "stdout",
     "output_type": "stream",
     "text": [
      "*\n",
      "**\n",
      "***\n",
      "****\n",
      "*****\n"
     ]
    }
   ],
   "source": [
    "for i in range(1,6):\n",
    "    print(\"*\"*i)"
   ]
  },
  {
   "cell_type": "code",
   "execution_count": 24,
   "id": "3d539b74",
   "metadata": {},
   "outputs": [
    {
     "name": "stdout",
     "output_type": "stream",
     "text": [
      "*\n",
      "***\n",
      "*****\n"
     ]
    }
   ],
   "source": [
    "for i in range(1,6,2):\n",
    "    print(\"*\"*i)"
   ]
  },
  {
   "cell_type": "code",
   "execution_count": 38,
   "id": "33b4a5d2",
   "metadata": {},
   "outputs": [
    {
     "name": "stdout",
     "output_type": "stream",
     "text": [
      "1\n",
      "2\n",
      "3\n",
      "2\n",
      "4\n",
      "6\n",
      "3\n",
      "6\n",
      "9\n"
     ]
    }
   ],
   "source": [
    "for i in range(1,4):\n",
    "    for j in range(1,4):\n",
    "        print(i*j)\n",
    "  "
   ]
  },
  {
   "cell_type": "code",
   "execution_count": 41,
   "id": "f4d9dafa",
   "metadata": {},
   "outputs": [
    {
     "name": "stdout",
     "output_type": "stream",
     "text": [
      "-- *\n",
      "- **\n",
      " ***\n"
     ]
    }
   ],
   "source": [
    "max = 3\n",
    "for i in range(2,-1,-1):\n",
    "    print(\"-\"*i,\"*\"*(max-i))"
   ]
  },
  {
   "cell_type": "code",
   "execution_count": 43,
   "id": "36f4ccce",
   "metadata": {},
   "outputs": [
    {
     "name": "stdout",
     "output_type": "stream",
     "text": [
      "--*\n",
      "-**\n",
      "***\n"
     ]
    }
   ],
   "source": [
    "max = 3\n",
    "for i in range(2,-1,-1):\n",
    "    print(\"-\"*i,end=\"\")\n",
    "    print(\"*\"*(max-i))"
   ]
  },
  {
   "cell_type": "markdown",
   "id": "0cbaaed9",
   "metadata": {},
   "source": [
    "# Practice April 12th Class\n"
   ]
  },
  {
   "cell_type": "code",
   "execution_count": null,
   "id": "1d238759",
   "metadata": {},
   "outputs": [],
   "source": [
    "input_data = print(\"Enter Input Data :\")"
   ]
  },
  {
   "cell_type": "code",
   "execution_count": null,
   "id": "2b2b4618",
   "metadata": {},
   "outputs": [],
   "source": []
  }
 ],
 "metadata": {
  "kernelspec": {
   "display_name": "Python 3",
   "language": "python",
   "name": "python3"
  },
  "language_info": {
   "codemirror_mode": {
    "name": "ipython",
    "version": 3
   },
   "file_extension": ".py",
   "mimetype": "text/x-python",
   "name": "python",
   "nbconvert_exporter": "python",
   "pygments_lexer": "ipython3",
   "version": "3.12.0"
  }
 },
 "nbformat": 4,
 "nbformat_minor": 5
}
