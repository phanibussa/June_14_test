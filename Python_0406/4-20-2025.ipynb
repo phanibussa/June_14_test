{
 "cells": [
  {
   "cell_type": "code",
   "execution_count": 1,
   "id": "d84a5155",
   "metadata": {},
   "outputs": [],
   "source": [
    "import os\n",
    "\n",
    "work_dir = \"c:/Phani\"\n",
    "file_name = \"Phani_text.txt\"\n",
    "\n",
    "complete_path = os.path.join(work_dir,file_name)"
   ]
  },
  {
   "cell_type": "code",
   "execution_count": 2,
   "id": "2fc45bf4",
   "metadata": {},
   "outputs": [
    {
     "name": "stdout",
     "output_type": "stream",
     "text": [
      "c:/Phani\\Phani_text.txt\n"
     ]
    }
   ],
   "source": [
    "print(complete_path)"
   ]
  },
  {
   "cell_type": "code",
   "execution_count": 6,
   "id": "83d03b28",
   "metadata": {},
   "outputs": [
    {
     "name": "stdout",
     "output_type": "stream",
     "text": [
      "c:\\Users\\phani\\OneDrive\\Desktop\\workspace\\ML_BookCamp\\Python\\Python_0406\\test.txt\n"
     ]
    }
   ],
   "source": [
    "file_name = \"test.txt\"\n",
    "cwd = os.getcwd()\n",
    "full_path = os.path.join(cwd,file_name)\n",
    "print(full_path)"
   ]
  },
  {
   "cell_type": "code",
   "execution_count": 21,
   "id": "abb09926",
   "metadata": {},
   "outputs": [],
   "source": [
    "f = open(full_path)"
   ]
  },
  {
   "cell_type": "code",
   "execution_count": 22,
   "id": "1d785b2d",
   "metadata": {},
   "outputs": [],
   "source": [
    "content = f.read()"
   ]
  },
  {
   "cell_type": "code",
   "execution_count": 23,
   "id": "4a18c12c",
   "metadata": {},
   "outputs": [
    {
     "name": "stdout",
     "output_type": "stream",
     "text": [
      "abc, 123, xyz\n",
      "bdf,456,hkh\n",
      "ihui,6768,808\n",
      "\n"
     ]
    }
   ],
   "source": [
    "print(content)"
   ]
  },
  {
   "cell_type": "code",
   "execution_count": 13,
   "id": "9ae6fa78",
   "metadata": {},
   "outputs": [
    {
     "data": {
      "text/plain": [
       "['phani', 'Bussa']"
      ]
     },
     "execution_count": 13,
     "metadata": {},
     "output_type": "execute_result"
    }
   ],
   "source": [
    "a = \"phani Bussa\"\n",
    "a.split()"
   ]
  },
  {
   "cell_type": "code",
   "execution_count": 24,
   "id": "fd99cd6e",
   "metadata": {},
   "outputs": [
    {
     "name": "stdout",
     "output_type": "stream",
     "text": [
      "abc, 123, xyz\n",
      "bdf,456,hkh\n",
      "ihui,6768,808\n",
      "\n"
     ]
    },
    {
     "data": {
      "text/plain": [
       "['abc, 123, xyz', 'bdf,456,hkh', 'ihui,6768,808', '']"
      ]
     },
     "execution_count": 24,
     "metadata": {},
     "output_type": "execute_result"
    }
   ],
   "source": [
    "print(content)\n",
    "content.split('\\n')"
   ]
  },
  {
   "cell_type": "code",
   "execution_count": 25,
   "id": "6bb4ece9",
   "metadata": {},
   "outputs": [],
   "source": [
    "f = open(full_path)"
   ]
  },
  {
   "cell_type": "code",
   "execution_count": 26,
   "id": "953699e0",
   "metadata": {},
   "outputs": [
    {
     "data": {
      "text/plain": [
       "['abc, 123, xyz\\n', 'bdf,456,hkh\\n', 'ihui,6768,808\\n']"
      ]
     },
     "execution_count": 26,
     "metadata": {},
     "output_type": "execute_result"
    }
   ],
   "source": [
    "f.readlines()"
   ]
  },
  {
   "cell_type": "code",
   "execution_count": 27,
   "id": "6f2225a6",
   "metadata": {},
   "outputs": [],
   "source": [
    "f.close()"
   ]
  },
  {
   "cell_type": "code",
   "execution_count": 32,
   "id": "b965fbe6",
   "metadata": {},
   "outputs": [
    {
     "name": "stdout",
     "output_type": "stream",
     "text": [
      "abc, 123, xyz\n",
      "bdf,456,hkh\n",
      "ihui,6768,808\n",
      "\n"
     ]
    }
   ],
   "source": [
    "for i in content.split('\\n'):\n",
    "    print(i)"
   ]
  },
  {
   "cell_type": "code",
   "execution_count": 33,
   "id": "37d9e1ab",
   "metadata": {},
   "outputs": [
    {
     "name": "stdout",
     "output_type": "stream",
     "text": [
      "['abc, 123, xyz\\n', 'bdf,456,hkh\\n', 'ihui,6768,808\\n']\n"
     ]
    }
   ],
   "source": [
    "with open(full_path) as f:\n",
    "    lines = f.readlines()\n",
    "    print(lines)"
   ]
  },
  {
   "cell_type": "code",
   "execution_count": 35,
   "id": "680b4cea",
   "metadata": {},
   "outputs": [
    {
     "name": "stdout",
     "output_type": "stream",
     "text": [
      "['abc, 123, xyz\\n', 'bdf,456,hkh\\n', 'ihui,6768,808\\n']\n"
     ]
    }
   ],
   "source": [
    "with open(full_path,\"r\") as f:\n",
    "    lines = f.readlines()\n",
    "    print(lines)"
   ]
  },
  {
   "cell_type": "code",
   "execution_count": 43,
   "id": "b214ef1e",
   "metadata": {},
   "outputs": [],
   "source": [
    "with open(\"./a.txt\",\"w\") as f:\n",
    "    f.write(\"Hello World!!\")\n",
    "    "
   ]
  },
  {
   "cell_type": "code",
   "execution_count": 52,
   "id": "f622a508",
   "metadata": {},
   "outputs": [],
   "source": [
    "a = [\"Hello , How are you \\n\",\"hey     \",\"Hello\\n\"]\n",
    "with open(\"./a.txt\",\"w\") as f:\n",
    "    f.writelines(a)\n",
    "    "
   ]
  },
  {
   "cell_type": "code",
   "execution_count": 53,
   "id": "fe66dc7f",
   "metadata": {},
   "outputs": [],
   "source": [
    "with open(\"./a.txt\",\"a\") as f:\n",
    "    f.writelines(\"new line added\")"
   ]
  },
  {
   "cell_type": "code",
   "execution_count": 55,
   "id": "066d2dea",
   "metadata": {},
   "outputs": [],
   "source": [
    "a = [\"new line 1  \\n\",\"new line 2  \\n\",\"new line 3  \\n\"]\n",
    "with open(\"./a.txt\",\"a\") as f:\n",
    "    f.writelines(a)"
   ]
  },
  {
   "cell_type": "code",
   "execution_count": 58,
   "id": "00b810ef",
   "metadata": {},
   "outputs": [],
   "source": [
    "\n",
    "with open(\"./sample.txt\",\"a\") as f:\n",
    "    f.writelines(\"New line added\\n\")"
   ]
  },
  {
   "cell_type": "code",
   "execution_count": 61,
   "id": "75f921b7",
   "metadata": {},
   "outputs": [],
   "source": [
    "\n",
    "with open(\"./sample1.txt\",\"a\") as f:\n",
    "    f.writelines(\"New line added -2\\n\")"
   ]
  },
  {
   "cell_type": "code",
   "execution_count": null,
   "id": "9887cfff",
   "metadata": {},
   "outputs": [],
   "source": [
    "\n",
    "with open(\"./sample1.txt\",\"a\") as f:\n",
    "    f.writelines(\"New line added -2\\n\")"
   ]
  },
  {
   "cell_type": "code",
   "execution_count": 74,
   "id": "4efed20a",
   "metadata": {},
   "outputs": [
    {
     "name": "stdout",
     "output_type": "stream",
     "text": [
      "[]\n"
     ]
    }
   ],
   "source": [
    "\n",
    "with open(\"./sample1.txt\",\"a+\") as f:\n",
    "   content = f.readlines()\n",
    "   print(content)"
   ]
  },
  {
   "cell_type": "code",
   "execution_count": 80,
   "id": "96b4a0c1",
   "metadata": {},
   "outputs": [],
   "source": [
    "id = 1"
   ]
  },
  {
   "cell_type": "code",
   "execution_count": 82,
   "id": "f4be922a",
   "metadata": {},
   "outputs": [],
   "source": [
    "\n",
    "f_name = input(\"Enter Name\")\n",
    "age = input(\"Enter Age\")\n",
    "with open(\"./emp.txt\",\"a+\") as f:\n",
    "   emp_details = str(id)+\",\"+f_name+\",\"+age+\"\\n\"\n",
    "   f.write(emp_details)\n",
    "id +=1   \n"
   ]
  },
  {
   "cell_type": "code",
   "execution_count": null,
   "id": "86819f3f",
   "metadata": {},
   "outputs": [],
   "source": []
  }
 ],
 "metadata": {
  "kernelspec": {
   "display_name": "Python 3",
   "language": "python",
   "name": "python3"
  },
  "language_info": {
   "codemirror_mode": {
    "name": "ipython",
    "version": 3
   },
   "file_extension": ".py",
   "mimetype": "text/x-python",
   "name": "python",
   "nbconvert_exporter": "python",
   "pygments_lexer": "ipython3",
   "version": "3.12.0"
  }
 },
 "nbformat": 4,
 "nbformat_minor": 5
}
