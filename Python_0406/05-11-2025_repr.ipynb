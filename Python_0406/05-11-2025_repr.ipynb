{
 "cells": [
  {
   "cell_type": "code",
   "execution_count": 1,
   "id": "c34b19cb",
   "metadata": {},
   "outputs": [],
   "source": [
    "class Person:\n",
    "    def __init__(self,name):\n",
    "        self.name= name\n",
    "    def __repr__(self):\n",
    "        return f\"Person {self.name}\"\n",
    "            "
   ]
  },
  {
   "cell_type": "code",
   "execution_count": 2,
   "id": "b66df3b2",
   "metadata": {},
   "outputs": [],
   "source": [
    "p_repr = Person(\"Phani\")"
   ]
  },
  {
   "cell_type": "code",
   "execution_count": 3,
   "id": "ad01b7a6",
   "metadata": {},
   "outputs": [
    {
     "name": "stdout",
     "output_type": "stream",
     "text": [
      "Person Phani\n"
     ]
    }
   ],
   "source": [
    "print(p_repr)"
   ]
  },
  {
   "cell_type": "code",
   "execution_count": null,
   "id": "4a105193",
   "metadata": {},
   "outputs": [
    {
     "name": "stdout",
     "output_type": "stream",
     "text": [
      "Person named Alice\n",
      "Person('Alice')\n",
      "Person named Alice\n"
     ]
    }
   ],
   "source": [
    "class Person:\n",
    "    def __init__(self, name):\n",
    "        self.name = name\n",
    "\n",
    "    def __str__(self):\n",
    "        return f\"Person named {self.name}\"\n",
    "\n",
    "    def __repr__(self):\n",
    "        return f\"Person('{self.name}')\"\n",
    "\n",
    "p = Person(\"Alice\")\n",
    "print(str(p))   # Person named Alice\n",
    "print(repr(p))  # Person('Alice')\n"
   ]
  },
  {
   "cell_type": "code",
   "execution_count": null,
   "id": "03e9ea72",
   "metadata": {},
   "outputs": [],
   "source": []
  }
 ],
 "metadata": {
  "kernelspec": {
   "display_name": "Python 3",
   "language": "python",
   "name": "python3"
  },
  "language_info": {
   "codemirror_mode": {
    "name": "ipython",
    "version": 3
   },
   "file_extension": ".py",
   "mimetype": "text/x-python",
   "name": "python",
   "nbconvert_exporter": "python",
   "pygments_lexer": "ipython3",
   "version": "3.12.0"
  }
 },
 "nbformat": 4,
 "nbformat_minor": 5
}
